{
  "cells": [
    {
      "cell_type": "markdown",
      "metadata": {
        "id": "view-in-github",
        "colab_type": "text"
      },
      "source": [
        "<a href=\"https://colab.research.google.com/github/marcinwolter/SummerStudent2022_autoencoder/blob/main/Autoencoder_Keras_DEC.ipynb\" target=\"_parent\"><img src=\"https://colab.research.google.com/assets/colab-badge.svg\" alt=\"Open In Colab\"/></a>"
      ]
    },
    {
      "cell_type": "markdown",
      "metadata": {
        "id": "Q_HsQ5NoC-T4"
      },
      "source": [
        "# [How to do Unsupervised Clustering with Keras](https://www.dlology.com/blog/how-to-do-unsupervised-clustering-with-keras/) | DLology\n",
        "\n",
        "Modified version of:\n",
        "\n",
        "https://github.com/Mboga/Keras_Deep_Clustering/blob/master/Keras-DEC.ipynb"
      ]
    },
    {
      "cell_type": "code",
      "execution_count": 1,
      "metadata": {
        "id": "2WoFjhvZC-T8"
      },
      "outputs": [],
      "source": [
        "from keras.datasets import mnist\n",
        "import numpy as np\n",
        "np.random.seed(10)"
      ]
    },
    {
      "cell_type": "code",
      "execution_count": 2,
      "metadata": {
        "id": "SKSiD0J-C-T-"
      },
      "outputs": [],
      "source": [
        "from time import time\n",
        "import numpy as np\n",
        "import keras.backend as K\n",
        "from tensorflow.python.keras.layers import Layer, InputSpec\n",
        "from keras.layers import Dense, Input\n",
        "from keras.models import Model\n",
        "from tensorflow.keras.optimizers import SGD, Adam\n",
        "from keras import callbacks\n",
        "from keras.initializers import VarianceScaling\n",
        "from sklearn.cluster import KMeans\n",
        "import sklearn.metrics\n",
        "\n",
        "import matplotlib.pyplot as plt\n"
      ]
    },
    {
      "cell_type": "code",
      "execution_count": 3,
      "metadata": {
        "id": "1zs8IAwnC-T-"
      },
      "outputs": [],
      "source": [
        "\n",
        "def autoencoder(dims, act='relu', init='glorot_uniform'):\n",
        "    \"\"\"\n",
        "    Fully connected auto-encoder model, symmetric.\n",
        "    Arguments:\n",
        "        dims: list of number of units in each layer of encoder. dims[0] is input dim, dims[-1] is units in hidden layer.\n",
        "            The decoder is symmetric with encoder. So number of layers of the auto-encoder is 2*len(dims)-1\n",
        "        act: activation, not applied to Input, Hidden and Output layers\n",
        "    return:\n",
        "        (ae_model, encoder_model), Model of autoencoder and model of encoder\n",
        "    \"\"\"\n",
        "    n_stacks = len(dims) - 1\n",
        "    # input\n",
        "    input_img = Input(shape=(dims[0],), name='input')\n",
        "    x = input_img\n",
        "    # internal layers in encoder\n",
        "    for i in range(n_stacks-1):\n",
        "        x = Dense(dims[i + 1], activation=act, kernel_initializer=init, name='encoder_%d' % i)(x)\n",
        "\n",
        "    # hidden layer\n",
        "    encoded = Dense(dims[-1], activation='linear', kernel_initializer=init, name='encoder_%d' % (n_stacks - 1))(x)  # hidden layer, features are extracted from here\n",
        "\n",
        "    x = encoded\n",
        "    # internal layers in decoder\n",
        "    for i in range(n_stacks-1, 0, -1):\n",
        "        x = Dense(dims[i], activation=act, kernel_initializer=init, name='decoder_%d' % i)(x)\n",
        "\n",
        "    # output\n",
        "    x = Dense(dims[0], kernel_initializer=init, name='decoder_0')(x)\n",
        "    decoded = x\n",
        "    return Model(inputs=input_img, outputs=decoded, name='AE'), Model(inputs=input_img, outputs=encoded, name='encoder')\n"
      ]
    },
    {
      "cell_type": "code",
      "source": [
        "# Read data from Rafal\n",
        "! wget https://ppss.ifj.edu.pl/~rafal/data_ND.npz --no-check-certificate\n",
        "! wget https://ppss.ifj.edu.pl/~rafal/data_DD.npz --no-check-certificate\n",
        "! wget https://ppss.ifj.edu.pl/~rafal/data_SD.npz --no-check-certificate\n",
        "data_ND = np.load('data_ND.npz')\n",
        "data_DD = np.load('data_DD.npz')\n",
        "data_SD = np.load('data_SD.npz')\n",
        "\n",
        "print(type(data_DD))\n",
        "lst = data_DD.files\n",
        "for item in lst:\n",
        "  print(item)\n",
        "\n",
        "x_train0 = np.concatenate([data_ND['train_X'],data_DD['train_X'],data_SD['train_X']])\n",
        "y_train0 = np.concatenate([data_ND['train_Y'],data_DD['train_Y'],data_SD['train_Y']])\n",
        "\n",
        "x_test0 = np.concatenate([data_ND['test_X'],data_DD['test_X'],data_SD['test_X']])\n",
        "y_test0 = np.concatenate([data_ND['test_Y'],data_DD['test_Y'],data_SD['test_Y']])"
      ],
      "metadata": {
        "colab": {
          "base_uri": "https://localhost:8080/"
        },
        "id": "mrbTfrb3Ghuw",
        "outputId": "8d7c5622-6fa0-4c20-8d4c-76c4cb7bf2e4"
      },
      "execution_count": 4,
      "outputs": [
        {
          "output_type": "stream",
          "name": "stdout",
          "text": [
            "--2022-07-28 15:25:36--  https://ppss.ifj.edu.pl/~rafal/data_ND.npz\n",
            "Resolving ppss.ifj.edu.pl (ppss.ifj.edu.pl)... 192.86.14.59\n",
            "Connecting to ppss.ifj.edu.pl (ppss.ifj.edu.pl)|192.86.14.59|:443... connected.\n",
            "WARNING: cannot verify ppss.ifj.edu.pl's certificate, issued by ‘CN=GEANT OV RSA CA 4,O=GEANT Vereniging,C=NL’:\n",
            "  Unable to locally verify the issuer's authority.\n",
            "HTTP request sent, awaiting response... 200 OK\n",
            "Length: 9580131 (9.1M)\n",
            "Saving to: ‘data_ND.npz.4’\n",
            "\n",
            "data_ND.npz.4       100%[===================>]   9.14M  5.77MB/s    in 1.6s    \n",
            "\n",
            "2022-07-28 15:25:40 (5.77 MB/s) - ‘data_ND.npz.4’ saved [9580131/9580131]\n",
            "\n",
            "--2022-07-28 15:25:40--  https://ppss.ifj.edu.pl/~rafal/data_DD.npz\n",
            "Resolving ppss.ifj.edu.pl (ppss.ifj.edu.pl)... 192.86.14.59\n",
            "Connecting to ppss.ifj.edu.pl (ppss.ifj.edu.pl)|192.86.14.59|:443... connected.\n",
            "WARNING: cannot verify ppss.ifj.edu.pl's certificate, issued by ‘CN=GEANT OV RSA CA 4,O=GEANT Vereniging,C=NL’:\n",
            "  Unable to locally verify the issuer's authority.\n",
            "HTTP request sent, awaiting response... 200 OK\n",
            "Length: 3488687 (3.3M)\n",
            "Saving to: ‘data_DD.npz.4’\n",
            "\n",
            "data_DD.npz.4       100%[===================>]   3.33M  2.73MB/s    in 1.2s    \n",
            "\n",
            "2022-07-28 15:25:42 (2.73 MB/s) - ‘data_DD.npz.4’ saved [3488687/3488687]\n",
            "\n",
            "--2022-07-28 15:25:42--  https://ppss.ifj.edu.pl/~rafal/data_SD.npz\n",
            "Resolving ppss.ifj.edu.pl (ppss.ifj.edu.pl)... 192.86.14.59\n",
            "Connecting to ppss.ifj.edu.pl (ppss.ifj.edu.pl)|192.86.14.59|:443... connected.\n",
            "WARNING: cannot verify ppss.ifj.edu.pl's certificate, issued by ‘CN=GEANT OV RSA CA 4,O=GEANT Vereniging,C=NL’:\n",
            "  Unable to locally verify the issuer's authority.\n",
            "HTTP request sent, awaiting response... 200 OK\n",
            "Length: 8713243 (8.3M)\n",
            "Saving to: ‘data_SD.npz.4’\n",
            "\n",
            "data_SD.npz.4       100%[===================>]   8.31M  5.29MB/s    in 1.6s    \n",
            "\n",
            "2022-07-28 15:25:44 (5.29 MB/s) - ‘data_SD.npz.4’ saved [8713243/8713243]\n",
            "\n",
            "<class 'numpy.lib.npyio.NpzFile'>\n",
            "train_X\n",
            "train_Y\n",
            "test_X\n",
            "test_Y\n"
          ]
        }
      ]
    },
    {
      "cell_type": "markdown",
      "source": [
        "Normalize the number of inputs in each class"
      ],
      "metadata": {
        "id": "G4LQGRQgjdrd"
      }
    },
    {
      "cell_type": "code",
      "source": [
        "print(np.count_nonzero(y_train0 == 1))\n",
        "print(np.count_nonzero(y_train0 == 2))\n",
        "print(np.count_nonzero(y_train0 == 3))\n",
        "print(np.count_nonzero(y_train0 == 4))\n",
        "\n",
        "\n",
        "\n",
        "\n",
        "\n",
        "\n",
        "x_train = np.array(x_train0)\n",
        "y_train = np.array(y_train0)\n",
        "\n",
        "print(y_train.shape)\n",
        "print(x_train.shape)\n",
        "\n",
        "\n",
        "print(np.count_nonzero(y_test0 == 1))\n",
        "print(np.count_nonzero(y_test0 == 2))\n",
        "print(np.count_nonzero(y_test0 == 3))\n",
        "print(np.count_nonzero(y_test0 == 4))\n",
        "\n",
        "\n",
        "\n",
        "\n",
        "\n",
        "x_test = np.array(x_test0)\n",
        "y_test = np.array(y_test0)\n",
        "\n",
        "print(y_test.shape)\n",
        "print(x_test.shape)\n",
        "\n",
        "print(y_train.shape)\n",
        "print(x_train.shape)\n",
        "\n"
      ],
      "metadata": {
        "colab": {
          "base_uri": "https://localhost:8080/"
        },
        "id": "K69JVqvHdyV4",
        "outputId": "bba4ecb0-f879-4901-84b4-842bbb91e27f"
      },
      "execution_count": 5,
      "outputs": [
        {
          "output_type": "stream",
          "name": "stdout",
          "text": [
            "35000\n",
            "35011\n",
            "34989\n",
            "35000\n",
            "(140000,)\n",
            "(140000, 28, 28)\n",
            "5000\n",
            "4984\n",
            "5016\n",
            "5000\n",
            "(20000,)\n",
            "(20000, 28, 28)\n",
            "(140000,)\n",
            "(140000, 28, 28)\n"
          ]
        }
      ]
    },
    {
      "cell_type": "code",
      "source": [
        "# load mnist images\n",
        "#(x_train, y_train), (x_test, y_test) = mnist.load_data()"
      ],
      "metadata": {
        "id": "PHgOZ2qNUDLE"
      },
      "execution_count": 6,
      "outputs": []
    },
    {
      "cell_type": "code",
      "source": [
        "\n",
        "\n",
        "# Blurring images\n",
        "import scipy \n",
        "from scipy.ndimage import gaussian_filter\n",
        "\n",
        "'''\n",
        "sigma_1 =100 #y_ish\n",
        "sigma_2 =10 #x_ish\n",
        "x_train = x_train.reshape((x_train.shape[0], -1))\n",
        "x_test = x_test.reshape((x_test.shape[0], -1))\n",
        "\n",
        "x_train = gaussian_filter(x_train, sigma=[sigma_1, sigma_2], order=0, output=None, mode='reflect', cval=0.0, truncate=4.0)\n",
        "x_test = gaussian_filter(x_test, sigma=[sigma_1, sigma_2], order=0, output=None, mode='reflect', cval=0.0, truncate=4.0)\n",
        "\n",
        "'''\n",
        "for i in range(len(x_train)):\n",
        "   x_train[i] = scipy.ndimage.gaussian_filter(x_train[i], sigma=[2,2])\n",
        "\n",
        "for i in range(len(x_test)):\n",
        "   x_test[i] = scipy.ndimage.gaussian_filter(x_test[i], sigma=[2,2])\n"
      ],
      "metadata": {
        "id": "WXwmSY0N_LFt",
        "colab": {
          "base_uri": "https://localhost:8080/",
          "height": 53
        },
        "outputId": "61f5448f-610d-419b-b2c7-c0fc76f9e158"
      },
      "execution_count": 7,
      "outputs": [
        {
          "output_type": "execute_result",
          "data": {
            "text/plain": [
              "'\\nfor i in range(len(x_train)):\\n   x_train[i] = scipy.ndimage.gaussian_filter(x_train[i], sigma=[2,2])\\n\\nfor i in range(len(x_test)):\\n   x_test[i] = scipy.ndimage.gaussian_filter(x_test[i], sigma=[2,2])\\n'"
            ],
            "application/vnd.google.colaboratory.intrinsic+json": {
              "type": "string"
            }
          },
          "metadata": {},
          "execution_count": 7
        }
      ]
    },
    {
      "cell_type": "code",
      "execution_count": 8,
      "metadata": {
        "id": "9aJJcnUFC-UA"
      },
      "outputs": [],
      "source": [
        "\n",
        "\n",
        "\n",
        "x_train = x_train.reshape((x_train.shape[0], -1))\n",
        "x_train = np.divide(x_train, 255.)\n",
        "x_test = x_test.reshape((x_test.shape[0], -1))\n",
        "x_test = np.divide(x_test, 255.)"
      ]
    },
    {
      "cell_type": "code",
      "execution_count": 9,
      "metadata": {
        "id": "U0ek8qPXC-UA",
        "outputId": "7a9adb90-bc70-4593-9c10-e487087b7fb1",
        "colab": {
          "base_uri": "https://localhost:8080/"
        }
      },
      "outputs": [
        {
          "output_type": "stream",
          "name": "stdout",
          "text": [
            "n_clusters =  4\n",
            "x_train shape:  (140000, 784)\n",
            "x_test shape:  (20000, 784)\n",
            "[1 1 1 ... 2 2 2]\n"
          ]
        }
      ],
      "source": [
        "n_clusters = len(np.unique(y_train))\n",
        "print(\"n_clusters = \",n_clusters)\n",
        "print(\"x_train shape: \",x_train.shape)\n",
        "print(\"x_test shape: \",x_test.shape)\n",
        "\n",
        "y_train = y_train\n",
        "y_test = y_test\n",
        "print(y_train)"
      ]
    },
    {
      "cell_type": "code",
      "source": [
        "\n",
        "n = 40\n",
        "plt.figure(figsize=(40, 8))\n",
        "for i in range(n):\n",
        "    # Display original\n",
        "    k=np.random.randint(len(x_train))\n",
        "    ax = plt.subplot(2, n+1, i+1)\n",
        "    plt.imshow(x_train[k].reshape(28, 28))\n",
        "    plt.gray()\n",
        "    ax.get_xaxis().set_visible(False)\n",
        "    ax.get_yaxis().set_visible(False)\n",
        "\n",
        "\n",
        "    # label the image with the target value\n",
        "    ax = plt.subplot(2, n+1, i+1)\n",
        "    ax.text(0, -7, str(y_train[k]))\n",
        "plt.show()"
      ],
      "metadata": {
        "colab": {
          "base_uri": "https://localhost:8080/",
          "height": 125
        },
        "id": "yQyEZghmjW5i",
        "outputId": "f42daccb-e65c-4ca1-f971-74ff8f6df0f2"
      },
      "execution_count": 10,
      "outputs": [
        {
          "output_type": "stream",
          "name": "stderr",
          "text": [
            "/usr/local/lib/python3.7/dist-packages/ipykernel_launcher.py:15: MatplotlibDeprecationWarning: Adding an axes using the same arguments as a previous axes currently reuses the earlier instance.  In a future version, a new instance will always be created and returned.  Meanwhile, this warning can be suppressed, and the future behavior ensured, by passing a unique label to each axes instance.\n",
            "  from ipykernel import kernelapp as app\n"
          ]
        },
        {
          "output_type": "display_data",
          "data": {
            "text/plain": [
              "<Figure size 2880x576 with 40 Axes>"
            ],
            "image/png": "[encoded data removed]"
          },
          "metadata": {
            "needs_background": "light"
          }
        }
      ]
    },
    {
      "cell_type": "markdown",
      "metadata": {
        "id": "hoBx5BM7C-UB"
      },
      "source": [
        "## Base line K-Means clustering accuracy"
      ]
    },
    {
      "cell_type": "code",
      "execution_count": 11,
      "metadata": {
        "id": "a_K6dylAC-UC"
      },
      "outputs": [],
      "source": [
        "kmeans = KMeans(n_clusters=n_clusters, n_init=20).fit(x_train)\n",
        "y_pred_kmeans = kmeans.predict(x_test)"
      ]
    },
    {
      "cell_type": "code",
      "execution_count": 12,
      "metadata": {
        "id": "eygAm5TxC-UD",
        "outputId": "50d464b8-5404-49f5-c258-cc5f1ae6a175",
        "colab": {
          "base_uri": "https://localhost:8080/"
        }
      },
      "outputs": [
        {
          "output_type": "execute_result",
          "data": {
            "text/plain": [
              "0.8330213460673034"
            ]
          },
          "metadata": {},
          "execution_count": 12
        }
      ],
      "source": [
        "sklearn.metrics.rand_score(y_test, y_pred_kmeans)"
      ]
    },
    {
      "cell_type": "code",
      "source": [
        "# Plot the confusion matrix\n",
        "\n",
        "import matplotlib.pyplot as plt\n",
        "import seaborn as sns\n",
        "\n",
        "\n",
        "confusion_matrix = sklearn.metrics.confusion_matrix(y_test, y_pred_kmeans)\n",
        "\n",
        "plt.figure(figsize=(16, 14))\n",
        "sns.heatmap(confusion_matrix, annot=True, fmt=\"d\", annot_kws={\"size\": 12});\n",
        "plt.title(\"Confusion matrix\", fontsize=30)\n",
        "plt.ylabel('True label', fontsize=25)\n",
        "plt.xlabel('Clustering label', fontsize=25)\n",
        "plt.show()"
      ],
      "metadata": {
        "colab": {
          "base_uri": "https://localhost:8080/",
          "height": 866
        },
        "id": "iSmx7y61RRkz",
        "outputId": "24826556-513c-4d5f-9ad3-2083162154e7"
      },
      "execution_count": 13,
      "outputs": [
        {
          "output_type": "display_data",
          "data": {
            "text/plain": [
              "<Figure size 1152x1008 with 2 Axes>"
            ],
            "image/png": "[encoded data removed]"
          },
          "metadata": {
            "needs_background": "light"
          }
        }
      ]
    },
    {
      "cell_type": "markdown",
      "metadata": {
        "id": "6sc7WSxpC-UD"
      },
      "source": [
        "## Hyper-params"
      ]
    },
    {
      "cell_type": "code",
      "execution_count": 14,
      "metadata": {
        "id": "sTObJa9OC-UE",
        "colab": {
          "base_uri": "https://localhost:8080/"
        },
        "outputId": "affa7683-66dd-450f-cb37-6d83469a333b"
      },
      "outputs": [
        {
          "output_type": "stream",
          "name": "stderr",
          "text": [
            "/usr/local/lib/python3.7/dist-packages/keras/optimizer_v2/gradient_descent.py:102: UserWarning: The `lr` argument is deprecated, use `learning_rate` instead.\n",
            "  super(SGD, self).__init__(name, **kwargs)\n"
          ]
        }
      ],
      "source": [
        "dims = [x_train.shape[-1], 500, 500, 2000, 2]\n",
        "#dims = [x_train.shape[-1], 400, 100, 29, 4]\n",
        "#dims  = [x_train.shape[-1], 100, 100]\n",
        "init = VarianceScaling(scale=1. / 3., mode='fan_in',\n",
        "                           distribution='uniform')\n",
        "pretrain_optimizer = SGD(lr=1, momentum=0.9)\n",
        "#pretrain_optimizer = Adam()\n",
        "pretrain_epochs = 300\n",
        "batch_size = 256\n",
        "save_dir = '.'"
      ]
    },
    {
      "cell_type": "code",
      "execution_count": 15,
      "metadata": {
        "id": "Mvyw5BYWC-UF",
        "outputId": "b9352cae-afd9-44a9-deeb-0e2ca5d93e04",
        "colab": {
          "base_uri": "https://localhost:8080/"
        }
      },
      "outputs": [
        {
          "output_type": "stream",
          "name": "stdout",
          "text": [
            "Model: \"AE\"\n",
            "_________________________________________________________________\n",
            " Layer (type)                Output Shape              Param #   \n",
            "=================================================================\n",
            " input (InputLayer)          [(None, 784)]             0         \n",
            "                                                                 \n",
            " encoder_0 (Dense)           (None, 500)               392500    \n",
            "                                                                 \n",
            " encoder_1 (Dense)           (None, 500)               250500    \n",
            "                                                                 \n",
            " encoder_2 (Dense)           (None, 2000)              1002000   \n",
            "                                                                 \n",
            " encoder_3 (Dense)           (None, 2)                 4002      \n",
            "                                                                 \n",
            " decoder_3 (Dense)           (None, 2000)              6000      \n",
            "                                                                 \n",
            " decoder_2 (Dense)           (None, 500)               1000500   \n",
            "                                                                 \n",
            " decoder_1 (Dense)           (None, 500)               250500    \n",
            "                                                                 \n",
            " decoder_0 (Dense)           (None, 784)               392784    \n",
            "                                                                 \n",
            "=================================================================\n",
            "Total params: 3,298,786\n",
            "Trainable params: 3,298,786\n",
            "Non-trainable params: 0\n",
            "_________________________________________________________________\n",
            "Model: \"encoder\"\n",
            "_________________________________________________________________\n",
            " Layer (type)                Output Shape              Param #   \n",
            "=================================================================\n",
            " input (InputLayer)          [(None, 784)]             0         \n",
            "                                                                 \n",
            " encoder_0 (Dense)           (None, 500)               392500    \n",
            "                                                                 \n",
            " encoder_1 (Dense)           (None, 500)               250500    \n",
            "                                                                 \n",
            " encoder_2 (Dense)           (None, 2000)              1002000   \n",
            "                                                                 \n",
            " encoder_3 (Dense)           (None, 2)                 4002      \n",
            "                                                                 \n",
            "=================================================================\n",
            "Total params: 1,649,002\n",
            "Trainable params: 1,649,002\n",
            "Non-trainable params: 0\n",
            "_________________________________________________________________\n"
          ]
        }
      ],
      "source": [
        "autoencoder, encoder = autoencoder(dims)#, init=init)\n",
        "\n",
        "autoencoder.summary()\n",
        "encoder.summary()"
      ]
    },
    {
      "cell_type": "code",
      "execution_count": 16,
      "metadata": {
        "id": "T2fUhESnC-UF",
        "outputId": "65ed1781-5200-475f-ae46-549e3d686118",
        "colab": {
          "base_uri": "https://localhost:8080/",
          "height": 53
        }
      },
      "outputs": [
        {
          "output_type": "execute_result",
          "data": {
            "text/plain": [
              "\"\\nfrom tensorflow.keras.utils import plot_model\\nplot_model(autoencoder, to_file='autoencoder.png', show_shapes=True)\\nfrom IPython.display import Image\\nImage(filename='autoencoder.png')\\n\""
            ],
            "application/vnd.google.colaboratory.intrinsic+json": {
              "type": "string"
            }
          },
          "metadata": {},
          "execution_count": 16
        }
      ],
      "source": [
        "'''\n",
        "from tensorflow.keras.utils import plot_model\n",
        "plot_model(autoencoder, to_file='autoencoder.png', show_shapes=True)\n",
        "from IPython.display import Image\n",
        "Image(filename='autoencoder.png')\n",
        "''' "
      ]
    },
    {
      "cell_type": "code",
      "execution_count": 17,
      "metadata": {
        "id": "slRMXIHGC-UF",
        "outputId": "67e3b016-ee42-40fe-cc51-c3f46b0edeab",
        "colab": {
          "base_uri": "https://localhost:8080/",
          "height": 35
        }
      },
      "outputs": [
        {
          "output_type": "execute_result",
          "data": {
            "text/plain": [
              "\"\\nfrom tensorflow.keras.utils import plot_model\\nplot_model(encoder, to_file='encoder.png', show_shapes=True)\\nfrom IPython.display import Image\\nImage(filename='encoder.png') \\n\""
            ],
            "application/vnd.google.colaboratory.intrinsic+json": {
              "type": "string"
            }
          },
          "metadata": {},
          "execution_count": 17
        }
      ],
      "source": [
        "'''\n",
        "from tensorflow.keras.utils import plot_model\n",
        "plot_model(encoder, to_file='encoder.png', show_shapes=True)\n",
        "from IPython.display import Image\n",
        "Image(filename='encoder.png') \n",
        "'''"
      ]
    },
    {
      "cell_type": "markdown",
      "metadata": {
        "id": "PqIwh4SYC-UG"
      },
      "source": [
        "## Pretrain auto-encoder"
      ]
    },
    {
      "cell_type": "code",
      "execution_count": 18,
      "metadata": {
        "scrolled": true,
        "id": "qq-65xQcC-UG",
        "outputId": "6870cd36-f10e-46a1-d837-ec0477d6753f",
        "colab": {
          "base_uri": "https://localhost:8080/"
        }
      },
      "outputs": [
        {
          "output_type": "stream",
          "name": "stdout",
          "text": [
            "Epoch 1/300\n",
            "547/547 [==============================] - 3s 4ms/step - loss: 0.0024\n",
            "Epoch 2/300\n",
            "547/547 [==============================] - 2s 4ms/step - loss: 0.0021\n",
            "Epoch 3/300\n",
            "547/547 [==============================] - 2s 4ms/step - loss: 0.0021\n",
            "Epoch 4/300\n",
            "547/547 [==============================] - 2s 4ms/step - loss: 0.0021\n",
            "Epoch 5/300\n",
            "547/547 [==============================] - 2s 4ms/step - loss: 0.0021\n",
            "Epoch 6/300\n",
            "547/547 [==============================] - 2s 4ms/step - loss: 0.0021\n",
            "Epoch 7/300\n",
            "547/547 [==============================] - 2s 4ms/step - loss: 0.0021\n",
            "Epoch 8/300\n",
            "547/547 [==============================] - 2s 4ms/step - loss: 0.0021\n",
            "Epoch 9/300\n",
            "547/547 [==============================] - 2s 4ms/step - loss: 0.0021\n",
            "Epoch 10/300\n",
            "547/547 [==============================] - 2s 4ms/step - loss: 0.0021\n",
            "Epoch 11/300\n",
            "547/547 [==============================] - 2s 4ms/step - loss: 0.0021\n",
            "Epoch 12/300\n",
            "547/547 [==============================] - 2s 4ms/step - loss: 0.0021\n",
            "Epoch 13/300\n",
            "547/547 [==============================] - 2s 4ms/step - loss: 0.0021\n",
            "Epoch 14/300\n",
            "547/547 [==============================] - 2s 4ms/step - loss: 0.0021\n",
            "Epoch 15/300\n",
            "547/547 [==============================] - 2s 4ms/step - loss: 0.0021\n",
            "Epoch 16/300\n",
            "547/547 [==============================] - 2s 4ms/step - loss: 0.0021\n",
            "Epoch 17/300\n",
            "547/547 [==============================] - 2s 4ms/step - loss: 0.0021\n",
            "Epoch 18/300\n",
            "547/547 [==============================] - 2s 4ms/step - loss: 0.0021\n",
            "Epoch 19/300\n",
            "547/547 [==============================] - 2s 4ms/step - loss: 0.0021\n",
            "Epoch 20/300\n",
            "547/547 [==============================] - 2s 4ms/step - loss: 0.0021\n",
            "Epoch 21/300\n",
            "547/547 [==============================] - 2s 4ms/step - loss: 0.0021\n",
            "Epoch 22/300\n",
            "547/547 [==============================] - 2s 4ms/step - loss: 0.0021\n",
            "Epoch 23/300\n",
            "547/547 [==============================] - 2s 4ms/step - loss: 0.0021\n",
            "Epoch 24/300\n",
            "547/547 [==============================] - 2s 4ms/step - loss: 0.0021\n",
            "Epoch 25/300\n",
            "547/547 [==============================] - 2s 4ms/step - loss: 0.0021\n",
            "Epoch 26/300\n",
            "547/547 [==============================] - 2s 4ms/step - loss: 0.0021\n",
            "Epoch 27/300\n",
            "547/547 [==============================] - 2s 4ms/step - loss: 0.0021\n",
            "Epoch 28/300\n",
            "547/547 [==============================] - 2s 4ms/step - loss: 0.0021\n",
            "Epoch 29/300\n",
            "547/547 [==============================] - 2s 4ms/step - loss: 0.0021\n",
            "Epoch 30/300\n",
            "547/547 [==============================] - 2s 4ms/step - loss: 0.0021\n",
            "Epoch 31/300\n",
            "547/547 [==============================] - 2s 4ms/step - loss: 0.0021\n",
            "Epoch 32/300\n",
            "547/547 [==============================] - 2s 4ms/step - loss: 0.0021\n",
            "Epoch 33/300\n",
            "547/547 [==============================] - 2s 4ms/step - loss: 0.0021\n",
            "Epoch 34/300\n",
            "547/547 [==============================] - 2s 4ms/step - loss: 0.0021\n",
            "Epoch 35/300\n",
            "547/547 [==============================] - 2s 4ms/step - loss: 0.0021\n",
            "Epoch 36/300\n",
            "547/547 [==============================] - 2s 4ms/step - loss: 0.0021\n",
            "Epoch 37/300\n",
            "547/547 [==============================] - 2s 4ms/step - loss: 0.0021\n",
            "Epoch 38/300\n",
            "547/547 [==============================] - 2s 4ms/step - loss: 0.0021\n",
            "Epoch 39/300\n",
            "547/547 [==============================] - 2s 4ms/step - loss: 0.0021\n",
            "Epoch 40/300\n",
            "547/547 [==============================] - 2s 4ms/step - loss: 0.0021\n",
            "Epoch 41/300\n",
            "547/547 [==============================] - 2s 4ms/step - loss: 0.0021\n",
            "Epoch 42/300\n",
            "547/547 [==============================] - 2s 4ms/step - loss: 0.0021\n",
            "Epoch 43/300\n",
            "547/547 [==============================] - 2s 4ms/step - loss: 0.0021\n",
            "Epoch 44/300\n",
            "547/547 [==============================] - 2s 4ms/step - loss: 0.0021\n",
            "Epoch 45/300\n",
            "547/547 [==============================] - 3s 5ms/step - loss: 0.0021\n",
            "Epoch 46/300\n",
            "547/547 [==============================] - 2s 4ms/step - loss: 0.0021\n",
            "Epoch 47/300\n",
            "547/547 [==============================] - 2s 4ms/step - loss: 0.0021\n",
            "Epoch 48/300\n",
            "547/547 [==============================] - 2s 4ms/step - loss: 0.0021\n",
            "Epoch 49/300\n",
            "547/547 [==============================] - 2s 4ms/step - loss: 0.0021\n",
            "Epoch 50/300\n",
            "547/547 [==============================] - 2s 4ms/step - loss: 0.0021\n",
            "Epoch 51/300\n",
            "547/547 [==============================] - 4s 7ms/step - loss: 0.0021\n",
            "Epoch 52/300\n",
            "547/547 [==============================] - 4s 7ms/step - loss: 0.0021\n",
            "Epoch 53/300\n",
            "547/547 [==============================] - 4s 7ms/step - loss: 0.0021\n",
            "Epoch 54/300\n",
            "547/547 [==============================] - 2s 4ms/step - loss: 0.0021\n",
            "Epoch 55/300\n",
            "547/547 [==============================] - 2s 4ms/step - loss: 0.0021\n",
            "Epoch 56/300\n",
            "547/547 [==============================] - 2s 4ms/step - loss: 0.0021\n",
            "Epoch 57/300\n",
            "547/547 [==============================] - 2s 4ms/step - loss: 0.0021\n",
            "Epoch 58/300\n",
            "547/547 [==============================] - 2s 4ms/step - loss: 0.0021\n",
            "Epoch 59/300\n",
            "547/547 [==============================] - 2s 4ms/step - loss: 0.0021\n",
            "Epoch 60/300\n",
            "547/547 [==============================] - 2s 4ms/step - loss: 0.0021\n",
            "Epoch 61/300\n",
            "547/547 [==============================] - 2s 4ms/step - loss: 0.0021\n",
            "Epoch 62/300\n",
            "547/547 [==============================] - 2s 4ms/step - loss: 0.0021\n",
            "Epoch 63/300\n",
            "547/547 [==============================] - 2s 4ms/step - loss: 0.0021\n",
            "Epoch 64/300\n",
            "547/547 [==============================] - 2s 4ms/step - loss: 0.0021\n",
            "Epoch 65/300\n",
            "547/547 [==============================] - 2s 4ms/step - loss: 0.0021\n",
            "Epoch 66/300\n",
            "547/547 [==============================] - 2s 4ms/step - loss: 0.0021\n",
            "Epoch 67/300\n",
            "547/547 [==============================] - 2s 4ms/step - loss: 0.0021\n",
            "Epoch 68/300\n",
            "547/547 [==============================] - 2s 4ms/step - loss: 0.0021\n",
            "Epoch 69/300\n",
            "547/547 [==============================] - 2s 4ms/step - loss: 0.0021\n",
            "Epoch 70/300\n",
            "547/547 [==============================] - 2s 4ms/step - loss: 0.0021\n",
            "Epoch 71/300\n",
            "547/547 [==============================] - 3s 5ms/step - loss: 0.0021\n",
            "Epoch 72/300\n",
            "547/547 [==============================] - 2s 4ms/step - loss: 0.0021\n",
            "Epoch 73/300\n",
            "547/547 [==============================] - 2s 4ms/step - loss: 0.0021\n",
            "Epoch 74/300\n",
            "547/547 [==============================] - 2s 4ms/step - loss: 0.0021\n",
            "Epoch 75/300\n",
            "547/547 [==============================] - 2s 4ms/step - loss: 0.0021\n",
            "Epoch 76/300\n",
            "547/547 [==============================] - 2s 4ms/step - loss: 0.0021\n",
            "Epoch 77/300\n",
            "547/547 [==============================] - 2s 4ms/step - loss: 0.0021\n",
            "Epoch 78/300\n",
            "547/547 [==============================] - 2s 4ms/step - loss: 0.0021\n",
            "Epoch 79/300\n",
            "547/547 [==============================] - 2s 4ms/step - loss: 0.0021\n",
            "Epoch 80/300\n",
            "547/547 [==============================] - 2s 4ms/step - loss: 0.0021\n",
            "Epoch 81/300\n",
            "547/547 [==============================] - 2s 4ms/step - loss: 0.0021\n",
            "Epoch 82/300\n",
            "547/547 [==============================] - 2s 4ms/step - loss: 0.0021\n",
            "Epoch 83/300\n",
            "547/547 [==============================] - 2s 4ms/step - loss: 0.0021\n",
            "Epoch 84/300\n",
            "547/547 [==============================] - 2s 4ms/step - loss: 0.0021\n",
            "Epoch 85/300\n",
            "547/547 [==============================] - 2s 4ms/step - loss: 0.0021\n",
            "Epoch 86/300\n",
            "547/547 [==============================] - 2s 4ms/step - loss: 0.0021\n",
            "Epoch 87/300\n",
            "547/547 [==============================] - 2s 4ms/step - loss: 0.0021\n",
            "Epoch 88/300\n",
            "547/547 [==============================] - 2s 4ms/step - loss: 0.0021\n",
            "Epoch 89/300\n",
            "547/547 [==============================] - 2s 4ms/step - loss: 0.0021\n",
            "Epoch 90/300\n",
            "547/547 [==============================] - 2s 4ms/step - loss: 0.0021\n",
            "Epoch 91/300\n",
            "547/547 [==============================] - 2s 4ms/step - loss: 0.0021\n",
            "Epoch 92/300\n",
            "547/547 [==============================] - 2s 4ms/step - loss: 0.0021\n",
            "Epoch 93/300\n",
            "547/547 [==============================] - 2s 4ms/step - loss: 0.0021\n",
            "Epoch 94/300\n",
            "547/547 [==============================] - 2s 4ms/step - loss: 0.0021\n",
            "Epoch 95/300\n",
            "547/547 [==============================] - 2s 4ms/step - loss: 0.0021\n",
            "Epoch 96/300\n",
            "547/547 [==============================] - 2s 4ms/step - loss: 0.0021\n",
            "Epoch 97/300\n",
            "547/547 [==============================] - 2s 4ms/step - loss: 0.0021\n",
            "Epoch 98/300\n",
            "547/547 [==============================] - 3s 5ms/step - loss: 0.0021\n",
            "Epoch 99/300\n",
            "547/547 [==============================] - 2s 4ms/step - loss: 0.0021\n",
            "Epoch 100/300\n",
            "547/547 [==============================] - 2s 4ms/step - loss: 0.0021\n",
            "Epoch 101/300\n",
            "547/547 [==============================] - 2s 4ms/step - loss: 0.0021\n",
            "Epoch 102/300\n",
            "547/547 [==============================] - 2s 4ms/step - loss: 0.0021\n",
            "Epoch 103/300\n",
            "547/547 [==============================] - 2s 4ms/step - loss: 0.0021\n",
            "Epoch 104/300\n",
            "547/547 [==============================] - 3s 5ms/step - loss: 0.0021\n",
            "Epoch 105/300\n",
            "547/547 [==============================] - 2s 4ms/step - loss: 0.0021\n",
            "Epoch 106/300\n",
            "547/547 [==============================] - 2s 4ms/step - loss: 0.0021\n",
            "Epoch 107/300\n",
            "547/547 [==============================] - 2s 4ms/step - loss: 0.0021\n",
            "Epoch 108/300\n",
            "547/547 [==============================] - 2s 4ms/step - loss: 0.0021\n",
            "Epoch 109/300\n",
            "547/547 [==============================] - 2s 4ms/step - loss: 0.0021\n",
            "Epoch 110/300\n",
            "547/547 [==============================] - 2s 4ms/step - loss: 0.0021\n",
            "Epoch 111/300\n",
            "547/547 [==============================] - 2s 4ms/step - loss: 0.0021\n",
            "Epoch 112/300\n",
            "547/547 [==============================] - 2s 5ms/step - loss: 0.0021\n",
            "Epoch 113/300\n",
            "547/547 [==============================] - 2s 4ms/step - loss: 0.0021\n",
            "Epoch 114/300\n",
            "547/547 [==============================] - 2s 4ms/step - loss: 0.0021\n",
            "Epoch 115/300\n",
            "547/547 [==============================] - 2s 4ms/step - loss: 0.0021\n",
            "Epoch 116/300\n",
            "547/547 [==============================] - 2s 4ms/step - loss: 0.0021\n",
            "Epoch 117/300\n",
            "547/547 [==============================] - 2s 4ms/step - loss: 0.0021\n",
            "Epoch 118/300\n",
            "547/547 [==============================] - 2s 4ms/step - loss: 0.0021\n",
            "Epoch 119/300\n",
            "547/547 [==============================] - 2s 4ms/step - loss: 0.0021\n",
            "Epoch 120/300\n",
            "547/547 [==============================] - 2s 4ms/step - loss: 0.0021\n",
            "Epoch 121/300\n",
            "547/547 [==============================] - 2s 4ms/step - loss: 0.0021\n",
            "Epoch 122/300\n",
            "547/547 [==============================] - 2s 4ms/step - loss: 0.0021\n",
            "Epoch 123/300\n",
            "547/547 [==============================] - 2s 4ms/step - loss: 0.0021\n",
            "Epoch 124/300\n",
            "547/547 [==============================] - 2s 4ms/step - loss: 0.0021\n",
            "Epoch 125/300\n",
            "547/547 [==============================] - 3s 5ms/step - loss: 0.0021\n",
            "Epoch 126/300\n",
            "547/547 [==============================] - 2s 4ms/step - loss: 0.0021\n",
            "Epoch 127/300\n",
            "547/547 [==============================] - 2s 4ms/step - loss: 0.0021\n",
            "Epoch 128/300\n",
            "547/547 [==============================] - 2s 4ms/step - loss: 0.0021\n",
            "Epoch 129/300\n",
            "547/547 [==============================] - 2s 4ms/step - loss: 0.0021\n",
            "Epoch 130/300\n",
            "547/547 [==============================] - 2s 4ms/step - loss: 0.0021\n",
            "Epoch 131/300\n",
            "547/547 [==============================] - 2s 4ms/step - loss: 0.0021\n",
            "Epoch 132/300\n",
            "547/547 [==============================] - 2s 4ms/step - loss: 0.0021\n",
            "Epoch 133/300\n",
            "547/547 [==============================] - 2s 4ms/step - loss: 0.0021\n",
            "Epoch 134/300\n",
            "547/547 [==============================] - 2s 4ms/step - loss: 0.0021\n",
            "Epoch 135/300\n",
            "547/547 [==============================] - 2s 4ms/step - loss: 0.0021\n",
            "Epoch 136/300\n",
            "547/547 [==============================] - 2s 4ms/step - loss: 0.0021\n",
            "Epoch 137/300\n",
            "547/547 [==============================] - 2s 4ms/step - loss: 0.0021\n",
            "Epoch 138/300\n",
            "547/547 [==============================] - 2s 4ms/step - loss: 0.0021\n",
            "Epoch 139/300\n",
            "547/547 [==============================] - 2s 4ms/step - loss: 0.0021\n",
            "Epoch 140/300\n",
            "547/547 [==============================] - 2s 4ms/step - loss: 0.0021\n",
            "Epoch 141/300\n",
            "547/547 [==============================] - 2s 5ms/step - loss: 0.0021\n",
            "Epoch 142/300\n",
            "547/547 [==============================] - 2s 5ms/step - loss: 0.0021\n",
            "Epoch 143/300\n",
            "547/547 [==============================] - 2s 4ms/step - loss: 0.0021\n",
            "Epoch 144/300\n",
            "547/547 [==============================] - 2s 4ms/step - loss: 0.0021\n",
            "Epoch 145/300\n",
            "547/547 [==============================] - 2s 4ms/step - loss: 0.0021\n",
            "Epoch 146/300\n",
            "547/547 [==============================] - 2s 4ms/step - loss: 0.0021\n",
            "Epoch 147/300\n",
            "547/547 [==============================] - 2s 4ms/step - loss: 0.0021\n",
            "Epoch 148/300\n",
            "547/547 [==============================] - 2s 4ms/step - loss: 0.0021\n",
            "Epoch 149/300\n",
            "547/547 [==============================] - 2s 4ms/step - loss: 0.0021\n",
            "Epoch 150/300\n",
            "547/547 [==============================] - 2s 4ms/step - loss: 0.0021\n",
            "Epoch 151/300\n",
            "547/547 [==============================] - 2s 4ms/step - loss: 0.0021\n",
            "Epoch 152/300\n",
            "547/547 [==============================] - 2s 4ms/step - loss: 0.0021\n",
            "Epoch 153/300\n",
            "547/547 [==============================] - 2s 5ms/step - loss: 0.0021\n",
            "Epoch 154/300\n",
            "547/547 [==============================] - 2s 4ms/step - loss: 0.0021\n",
            "Epoch 155/300\n",
            "547/547 [==============================] - 2s 4ms/step - loss: 0.0021\n",
            "Epoch 156/300\n",
            "547/547 [==============================] - 2s 4ms/step - loss: 0.0021\n",
            "Epoch 157/300\n",
            "547/547 [==============================] - 2s 4ms/step - loss: 0.0021\n",
            "Epoch 158/300\n",
            "547/547 [==============================] - 2s 4ms/step - loss: 0.0021\n",
            "Epoch 159/300\n",
            "547/547 [==============================] - 2s 4ms/step - loss: 0.0021\n",
            "Epoch 160/300\n",
            "547/547 [==============================] - 2s 4ms/step - loss: 0.0021\n",
            "Epoch 161/300\n",
            "547/547 [==============================] - 2s 4ms/step - loss: 0.0021\n",
            "Epoch 162/300\n",
            "547/547 [==============================] - 2s 4ms/step - loss: 0.0021\n",
            "Epoch 163/300\n",
            "547/547 [==============================] - 2s 4ms/step - loss: 0.0021\n",
            "Epoch 164/300\n",
            "547/547 [==============================] - 2s 5ms/step - loss: 0.0021\n",
            "Epoch 165/300\n",
            "547/547 [==============================] - 2s 4ms/step - loss: 0.0021\n",
            "Epoch 166/300\n",
            "547/547 [==============================] - 2s 4ms/step - loss: 0.0021\n",
            "Epoch 167/300\n",
            "547/547 [==============================] - 2s 4ms/step - loss: 0.0021\n",
            "Epoch 168/300\n",
            "547/547 [==============================] - 2s 4ms/step - loss: 0.0021\n",
            "Epoch 169/300\n",
            "547/547 [==============================] - 2s 4ms/step - loss: 0.0021\n",
            "Epoch 170/300\n",
            "547/547 [==============================] - 2s 4ms/step - loss: 0.0021\n",
            "Epoch 171/300\n",
            "547/547 [==============================] - 2s 4ms/step - loss: 0.0021\n",
            "Epoch 172/300\n",
            "547/547 [==============================] - 2s 4ms/step - loss: 0.0021\n",
            "Epoch 173/300\n",
            "547/547 [==============================] - 2s 4ms/step - loss: 0.0021\n",
            "Epoch 174/300\n",
            "547/547 [==============================] - 2s 4ms/step - loss: 0.0021\n",
            "Epoch 175/300\n",
            "547/547 [==============================] - 2s 4ms/step - loss: 0.0021\n",
            "Epoch 176/300\n",
            "547/547 [==============================] - 2s 4ms/step - loss: 0.0021\n",
            "Epoch 177/300\n",
            "547/547 [==============================] - 2s 4ms/step - loss: 0.0021\n",
            "Epoch 178/300\n",
            "547/547 [==============================] - 2s 5ms/step - loss: 0.0021\n",
            "Epoch 179/300\n",
            "547/547 [==============================] - 2s 4ms/step - loss: 0.0021\n",
            "Epoch 180/300\n",
            "547/547 [==============================] - 2s 4ms/step - loss: 0.0021\n",
            "Epoch 181/300\n",
            "547/547 [==============================] - 2s 4ms/step - loss: 0.0021\n",
            "Epoch 182/300\n",
            "547/547 [==============================] - 2s 5ms/step - loss: 0.0021\n",
            "Epoch 183/300\n",
            "547/547 [==============================] - 3s 5ms/step - loss: 0.0021\n",
            "Epoch 184/300\n",
            "547/547 [==============================] - 3s 5ms/step - loss: 0.0021\n",
            "Epoch 185/300\n",
            "547/547 [==============================] - 2s 5ms/step - loss: 0.0021\n",
            "Epoch 186/300\n",
            "547/547 [==============================] - 2s 4ms/step - loss: 0.0021\n",
            "Epoch 187/300\n",
            "547/547 [==============================] - 2s 4ms/step - loss: 0.0021\n",
            "Epoch 188/300\n",
            "547/547 [==============================] - 2s 4ms/step - loss: 0.0021\n",
            "Epoch 189/300\n",
            "547/547 [==============================] - 2s 4ms/step - loss: 0.0021\n",
            "Epoch 190/300\n",
            "547/547 [==============================] - 2s 4ms/step - loss: 0.0021\n",
            "Epoch 191/300\n",
            "547/547 [==============================] - 2s 4ms/step - loss: 0.0021\n",
            "Epoch 192/300\n",
            "547/547 [==============================] - 2s 4ms/step - loss: 0.0021\n",
            "Epoch 193/300\n",
            "547/547 [==============================] - 2s 4ms/step - loss: 0.0021\n",
            "Epoch 194/300\n",
            "547/547 [==============================] - 2s 4ms/step - loss: 0.0021\n",
            "Epoch 195/300\n",
            "547/547 [==============================] - 2s 5ms/step - loss: 0.0021\n",
            "Epoch 196/300\n",
            "547/547 [==============================] - 2s 4ms/step - loss: 0.0021\n",
            "Epoch 197/300\n",
            "547/547 [==============================] - 2s 4ms/step - loss: 0.0021\n",
            "Epoch 198/300\n",
            "547/547 [==============================] - 2s 4ms/step - loss: 0.0021\n",
            "Epoch 199/300\n",
            "547/547 [==============================] - 2s 4ms/step - loss: 0.0021\n",
            "Epoch 200/300\n",
            "547/547 [==============================] - 2s 4ms/step - loss: 0.0021\n",
            "Epoch 201/300\n",
            "547/547 [==============================] - 2s 4ms/step - loss: 0.0021\n",
            "Epoch 202/300\n",
            "547/547 [==============================] - 2s 4ms/step - loss: 0.0021\n",
            "Epoch 203/300\n",
            "547/547 [==============================] - 2s 4ms/step - loss: 0.0021\n",
            "Epoch 204/300\n",
            "547/547 [==============================] - 2s 4ms/step - loss: 0.0021\n",
            "Epoch 205/300\n",
            "547/547 [==============================] - 2s 4ms/step - loss: 0.0021\n",
            "Epoch 206/300\n",
            "547/547 [==============================] - 2s 4ms/step - loss: 0.0021\n",
            "Epoch 207/300\n",
            "547/547 [==============================] - 2s 4ms/step - loss: 0.0021\n",
            "Epoch 208/300\n",
            "547/547 [==============================] - 2s 5ms/step - loss: 0.0021\n",
            "Epoch 209/300\n",
            "547/547 [==============================] - 2s 5ms/step - loss: 0.0021\n",
            "Epoch 210/300\n",
            "547/547 [==============================] - 2s 4ms/step - loss: 0.0021\n",
            "Epoch 211/300\n",
            "547/547 [==============================] - 2s 4ms/step - loss: 0.0021\n",
            "Epoch 212/300\n",
            "547/547 [==============================] - 2s 4ms/step - loss: 0.0021\n",
            "Epoch 213/300\n",
            "547/547 [==============================] - 2s 4ms/step - loss: 0.0021\n",
            "Epoch 214/300\n",
            "547/547 [==============================] - 2s 4ms/step - loss: 0.0021\n",
            "Epoch 215/300\n",
            "547/547 [==============================] - 2s 4ms/step - loss: 0.0021\n",
            "Epoch 216/300\n",
            "547/547 [==============================] - 2s 4ms/step - loss: 0.0021\n",
            "Epoch 217/300\n",
            "547/547 [==============================] - 2s 4ms/step - loss: 0.0021\n",
            "Epoch 218/300\n",
            "547/547 [==============================] - 2s 4ms/step - loss: 0.0021\n",
            "Epoch 219/300\n",
            "547/547 [==============================] - 2s 4ms/step - loss: 0.0021\n",
            "Epoch 220/300\n",
            "547/547 [==============================] - 2s 4ms/step - loss: 0.0021\n",
            "Epoch 221/300\n",
            "547/547 [==============================] - 2s 4ms/step - loss: 0.0021\n",
            "Epoch 222/300\n",
            "547/547 [==============================] - 2s 4ms/step - loss: 0.0021\n",
            "Epoch 223/300\n",
            "547/547 [==============================] - 2s 4ms/step - loss: 0.0021\n",
            "Epoch 224/300\n",
            "547/547 [==============================] - 2s 4ms/step - loss: 0.0021\n",
            "Epoch 225/300\n",
            "547/547 [==============================] - 2s 4ms/step - loss: 0.0021\n",
            "Epoch 226/300\n",
            "547/547 [==============================] - 2s 4ms/step - loss: 0.0021\n",
            "Epoch 227/300\n",
            "547/547 [==============================] - 2s 4ms/step - loss: 0.0021\n",
            "Epoch 228/300\n",
            "547/547 [==============================] - 2s 4ms/step - loss: 0.0021\n",
            "Epoch 229/300\n",
            "547/547 [==============================] - 2s 4ms/step - loss: 0.0021\n",
            "Epoch 230/300\n",
            "547/547 [==============================] - 2s 4ms/step - loss: 0.0021\n",
            "Epoch 231/300\n",
            "547/547 [==============================] - 2s 4ms/step - loss: 0.0021\n",
            "Epoch 232/300\n",
            "547/547 [==============================] - 2s 4ms/step - loss: 0.0021\n",
            "Epoch 233/300\n",
            "547/547 [==============================] - 2s 4ms/step - loss: 0.0021\n",
            "Epoch 234/300\n",
            "547/547 [==============================] - 2s 4ms/step - loss: 0.0021\n",
            "Epoch 235/300\n",
            "547/547 [==============================] - 2s 4ms/step - loss: 0.0021\n",
            "Epoch 236/300\n",
            "547/547 [==============================] - 2s 4ms/step - loss: 0.0021\n",
            "Epoch 237/300\n",
            "547/547 [==============================] - 2s 4ms/step - loss: 0.0021\n",
            "Epoch 238/300\n",
            "547/547 [==============================] - 2s 4ms/step - loss: 0.0021\n",
            "Epoch 239/300\n",
            "547/547 [==============================] - 2s 4ms/step - loss: 0.0021\n",
            "Epoch 240/300\n",
            "547/547 [==============================] - 2s 4ms/step - loss: 0.0021\n",
            "Epoch 241/300\n",
            "547/547 [==============================] - 2s 4ms/step - loss: 0.0021\n",
            "Epoch 242/300\n",
            "547/547 [==============================] - 2s 4ms/step - loss: 0.0021\n",
            "Epoch 243/300\n",
            "547/547 [==============================] - 2s 4ms/step - loss: 0.0021\n",
            "Epoch 244/300\n",
            "547/547 [==============================] - 2s 4ms/step - loss: 0.0021\n",
            "Epoch 245/300\n",
            "547/547 [==============================] - 2s 4ms/step - loss: 0.0021\n",
            "Epoch 246/300\n",
            "547/547 [==============================] - 2s 4ms/step - loss: 0.0021\n",
            "Epoch 247/300\n",
            "547/547 [==============================] - 2s 4ms/step - loss: 0.0021\n",
            "Epoch 248/300\n",
            "547/547 [==============================] - 2s 4ms/step - loss: 0.0021\n",
            "Epoch 249/300\n",
            "547/547 [==============================] - 2s 4ms/step - loss: 0.0021\n",
            "Epoch 250/300\n",
            "547/547 [==============================] - 2s 5ms/step - loss: 0.0021\n",
            "Epoch 251/300\n",
            "547/547 [==============================] - 2s 4ms/step - loss: 0.0021\n",
            "Epoch 252/300\n",
            "547/547 [==============================] - 2s 5ms/step - loss: 0.0021\n",
            "Epoch 253/300\n",
            "547/547 [==============================] - 2s 4ms/step - loss: 0.0021\n",
            "Epoch 254/300\n",
            "547/547 [==============================] - 2s 5ms/step - loss: 0.0021\n",
            "Epoch 255/300\n",
            "547/547 [==============================] - 3s 5ms/step - loss: 0.0021\n",
            "Epoch 256/300\n",
            "547/547 [==============================] - 2s 4ms/step - loss: 0.0021\n",
            "Epoch 257/300\n",
            "547/547 [==============================] - 2s 4ms/step - loss: 0.0021\n",
            "Epoch 258/300\n",
            "547/547 [==============================] - 2s 5ms/step - loss: 0.0021\n",
            "Epoch 259/300\n",
            "547/547 [==============================] - 2s 5ms/step - loss: 0.0021\n",
            "Epoch 260/300\n",
            "547/547 [==============================] - 2s 5ms/step - loss: 0.0021\n",
            "Epoch 261/300\n",
            "547/547 [==============================] - 2s 5ms/step - loss: 0.0021\n",
            "Epoch 262/300\n",
            "547/547 [==============================] - 2s 5ms/step - loss: 0.0021\n",
            "Epoch 263/300\n",
            "547/547 [==============================] - 2s 5ms/step - loss: 0.0021\n",
            "Epoch 264/300\n",
            "547/547 [==============================] - 2s 5ms/step - loss: 0.0021\n",
            "Epoch 265/300\n",
            "547/547 [==============================] - 2s 4ms/step - loss: 0.0021\n",
            "Epoch 266/300\n",
            "547/547 [==============================] - 2s 4ms/step - loss: 0.0021\n",
            "Epoch 267/300\n",
            "547/547 [==============================] - 2s 5ms/step - loss: 0.0021\n",
            "Epoch 268/300\n",
            "547/547 [==============================] - 2s 5ms/step - loss: 0.0021\n",
            "Epoch 269/300\n",
            "547/547 [==============================] - 2s 5ms/step - loss: 0.0021\n",
            "Epoch 270/300\n",
            "547/547 [==============================] - 2s 4ms/step - loss: 0.0021\n",
            "Epoch 271/300\n",
            "547/547 [==============================] - 2s 5ms/step - loss: 0.0021\n",
            "Epoch 272/300\n",
            "547/547 [==============================] - 2s 5ms/step - loss: 0.0021\n",
            "Epoch 273/300\n",
            "547/547 [==============================] - 2s 5ms/step - loss: 0.0021\n",
            "Epoch 274/300\n",
            "547/547 [==============================] - 2s 5ms/step - loss: 0.0021\n",
            "Epoch 275/300\n",
            "547/547 [==============================] - 3s 5ms/step - loss: 0.0021\n",
            "Epoch 276/300\n",
            "547/547 [==============================] - 2s 5ms/step - loss: 0.0021\n",
            "Epoch 277/300\n",
            "547/547 [==============================] - 2s 4ms/step - loss: 0.0021\n",
            "Epoch 278/300\n",
            "547/547 [==============================] - 2s 5ms/step - loss: 0.0021\n",
            "Epoch 279/300\n",
            "547/547 [==============================] - 2s 5ms/step - loss: 0.0021\n",
            "Epoch 280/300\n",
            "547/547 [==============================] - 2s 4ms/step - loss: 0.0021\n",
            "Epoch 281/300\n",
            "547/547 [==============================] - 2s 4ms/step - loss: 0.0021\n",
            "Epoch 282/300\n",
            "547/547 [==============================] - 2s 5ms/step - loss: 0.0021\n",
            "Epoch 283/300\n",
            "547/547 [==============================] - 2s 4ms/step - loss: 0.0021\n",
            "Epoch 284/300\n",
            "547/547 [==============================] - 2s 4ms/step - loss: 0.0021\n",
            "Epoch 285/300\n",
            "547/547 [==============================] - 2s 5ms/step - loss: 0.0021\n",
            "Epoch 286/300\n",
            "547/547 [==============================] - 3s 5ms/step - loss: 0.0021\n",
            "Epoch 287/300\n",
            "547/547 [==============================] - 2s 5ms/step - loss: 0.0021\n",
            "Epoch 288/300\n",
            "547/547 [==============================] - 2s 5ms/step - loss: 0.0021\n",
            "Epoch 289/300\n",
            "547/547 [==============================] - 2s 5ms/step - loss: 0.0021\n",
            "Epoch 290/300\n",
            "547/547 [==============================] - 2s 5ms/step - loss: 0.0021\n",
            "Epoch 291/300\n",
            "547/547 [==============================] - 3s 5ms/step - loss: 0.0021\n",
            "Epoch 292/300\n",
            "547/547 [==============================] - 2s 4ms/step - loss: 0.0021\n",
            "Epoch 293/300\n",
            "547/547 [==============================] - 3s 5ms/step - loss: 0.0021\n",
            "Epoch 294/300\n",
            "547/547 [==============================] - 3s 5ms/step - loss: 0.0021\n",
            "Epoch 295/300\n",
            "547/547 [==============================] - 3s 5ms/step - loss: 0.0021\n",
            "Epoch 296/300\n",
            "547/547 [==============================] - 3s 5ms/step - loss: 0.0021\n",
            "Epoch 297/300\n",
            "547/547 [==============================] - 3s 5ms/step - loss: 0.0021\n",
            "Epoch 298/300\n",
            "547/547 [==============================] - 3s 5ms/step - loss: 0.0021\n",
            "Epoch 299/300\n",
            "547/547 [==============================] - 3s 5ms/step - loss: 0.0021\n",
            "Epoch 300/300\n",
            "547/547 [==============================] - 3s 5ms/step - loss: 0.0021\n"
          ]
        }
      ],
      "source": [
        "autoencoder.compile(optimizer=pretrain_optimizer,  loss=\"mean_squared_logarithmic_error\") #loss='mse')\n",
        "autoencoder.fit(x_train, x_train, batch_size=batch_size, epochs=pretrain_epochs) #, callbacks=cb)\n",
        "autoencoder.save_weights(save_dir + '/ae_weights.h5')"
      ]
    },
    {
      "cell_type": "code",
      "execution_count": 19,
      "metadata": {
        "id": "uRxmCytBC-UG"
      },
      "outputs": [],
      "source": [
        "#autoencoder.save_weights(save_dir + '/ae_weights.h5')"
      ]
    },
    {
      "cell_type": "markdown",
      "metadata": {
        "id": "tX4ScnrAC-UH"
      },
      "source": [
        "### Load the pre-trained auto encoder weights"
      ]
    },
    {
      "cell_type": "code",
      "execution_count": 20,
      "metadata": {
        "id": "VBuA6SkCC-UH"
      },
      "outputs": [],
      "source": [
        "#autoencoder.load_weights(save_dir + '/ae_weights.h5')"
      ]
    },
    {
      "cell_type": "markdown",
      "metadata": {
        "id": "wKnUmb-LC-UH"
      },
      "source": [
        "## Build clustering model"
      ]
    },
    {
      "cell_type": "markdown",
      "metadata": {
        "id": "RqSY67eBC-UH"
      },
      "source": [
        "### ClusteringLayer"
      ]
    },
    {
      "cell_type": "code",
      "execution_count": 21,
      "metadata": {
        "id": "lQGC8mW9C-UH",
        "outputId": "45fe2d9d-4b1e-41de-fa47-d5f22ab6257b",
        "colab": {
          "base_uri": "https://localhost:8080/",
          "height": 124
        }
      },
      "outputs": [
        {
          "output_type": "execute_result",
          "data": {
            "text/plain": [
              "'\\nclass ClusteringLayer(Layer):\\n    \"\"\"\\n    Clustering layer converts input sample (feature) to soft label, i.e. a vector that represents the probability of the\\n    sample belonging to each cluster. The probability is calculated with student\\'s t-distribution.\\n\\n    # Example\\n    ```\\n        model.add(ClusteringLayer(n_clusters=10))\\n    ```\\n    # Arguments\\n        n_clusters: number of clusters.\\n        weights: list of Numpy array with shape `(n_clusters, n_features)` witch represents the initial cluster centers.\\n        alpha: degrees of freedom parameter in Student\\'s t-distribution. Default to 1.0.\\n    # Input shape\\n        2D tensor with shape: `(n_samples, n_features)`.\\n    # Output shape\\n        2D tensor with shape: `(n_samples, n_clusters)`.\\n    \"\"\"\\n\\n    def __init__(self, n_clusters, weights=None, alpha=1.0, **kwargs):\\n        if \\'input_shape\\' not in kwargs and \\'input_dim\\' in kwargs:\\n            kwargs[\\'input_shape\\'] = (kwargs.pop(\\'input_dim\\'),)\\n        super(ClusteringLayer, self).__init__(**kwargs)\\n        self.n_clusters = n_clusters\\n        self.alpha = alpha\\n        self.initial_weights = weights\\n        self.input_spec = InputSpec(ndim=2)\\n\\n    def build(self, input_shape):\\n        assert len(input_shape) == 2\\n        input_dim = input_shape[1]\\n        self.input_spec = InputSpec(dtype=K.floatx(), shape=(None, input_dim))\\n        self.clusters = self.add_weight((self.n_clusters, input_dim), initializer=\\'glorot_uniform\\', name=\\'clusters\\')\\n        if self.initial_weights is not None:\\n            self.set_weights(self.initial_weights)\\n            del self.initial_weights\\n        self.built = True\\n\\n    def call(self, inputs, **kwargs):\\n        \"\"\" student t-distribution, as same as used in t-SNE algorithm.\\n         Measure the similarity between embedded point z_i and centroid µ_j.\\n                 q_ij = 1/(1+dist(x_i, µ_j)^2), then normalize it.\\n                 q_ij can be interpreted as the probability of assigning sample i to cluster j.\\n                 (i.e., a soft assignment)\\n        Arguments:\\n            inputs: the variable containing data, shape=(n_samples, n_features)\\n        Return:\\n            q: student\\'s t-distribution, or soft labels for each sample. shape=(n_samples, n_clusters)\\n        \"\"\"\\n        q = 1.0 / (1.0 + (K.sum(K.square(K.expand_dims(inputs, axis=1) - self.clusters), axis=2) / self.alpha))\\n        q **= (self.alpha + 1.0) / 2.0\\n        q = K.transpose(K.transpose(q) / K.sum(q, axis=1)) # Make sure each sample\\'s 10 values add up to 1.\\n        return q\\n\\n    def compute_output_shape(self, input_shape):\\n        assert input_shape and len(input_shape) == 2\\n        return input_shape[0], self.n_clusters\\n\\n    def get_config(self):\\n        config = {\\'n_clusters\\': self.n_clusters}\\n        base_config = super(ClusteringLayer, self).get_config()\\n        return dict(list(base_config.items()) + list(config.items()))\\n'"
            ],
            "application/vnd.google.colaboratory.intrinsic+json": {
              "type": "string"
            }
          },
          "metadata": {},
          "execution_count": 21
        }
      ],
      "source": [
        "'''\n",
        "class ClusteringLayer(Layer):\n",
        "    \"\"\"\n",
        "    Clustering layer converts input sample (feature) to soft label, i.e. a vector that represents the probability of the\n",
        "    sample belonging to each cluster. The probability is calculated with student's t-distribution.\n",
        "\n",
        "    # Example\n",
        "    ```\n",
        "        model.add(ClusteringLayer(n_clusters=10))\n",
        "    ```\n",
        "    # Arguments\n",
        "        n_clusters: number of clusters.\n",
        "        weights: list of Numpy array with shape `(n_clusters, n_features)` witch represents the initial cluster centers.\n",
        "        alpha: degrees of freedom parameter in Student's t-distribution. Default to 1.0.\n",
        "    # Input shape\n",
        "        2D tensor with shape: `(n_samples, n_features)`.\n",
        "    # Output shape\n",
        "        2D tensor with shape: `(n_samples, n_clusters)`.\n",
        "    \"\"\"\n",
        "\n",
        "    def __init__(self, n_clusters, weights=None, alpha=1.0, **kwargs):\n",
        "        if 'input_shape' not in kwargs and 'input_dim' in kwargs:\n",
        "            kwargs['input_shape'] = (kwargs.pop('input_dim'),)\n",
        "        super(ClusteringLayer, self).__init__(**kwargs)\n",
        "        self.n_clusters = n_clusters\n",
        "        self.alpha = alpha\n",
        "        self.initial_weights = weights\n",
        "        self.input_spec = InputSpec(ndim=2)\n",
        "\n",
        "    def build(self, input_shape):\n",
        "        assert len(input_shape) == 2\n",
        "        input_dim = input_shape[1]\n",
        "        self.input_spec = InputSpec(dtype=K.floatx(), shape=(None, input_dim))\n",
        "        self.clusters = self.add_weight((self.n_clusters, input_dim), initializer='glorot_uniform', name='clusters')\n",
        "        if self.initial_weights is not None:\n",
        "            self.set_weights(self.initial_weights)\n",
        "            del self.initial_weights\n",
        "        self.built = True\n",
        "\n",
        "    def call(self, inputs, **kwargs):\n",
        "        \"\"\" student t-distribution, as same as used in t-SNE algorithm.\n",
        "         Measure the similarity between embedded point z_i and centroid µ_j.\n",
        "                 q_ij = 1/(1+dist(x_i, µ_j)^2), then normalize it.\n",
        "                 q_ij can be interpreted as the probability of assigning sample i to cluster j.\n",
        "                 (i.e., a soft assignment)\n",
        "        Arguments:\n",
        "            inputs: the variable containing data, shape=(n_samples, n_features)\n",
        "        Return:\n",
        "            q: student's t-distribution, or soft labels for each sample. shape=(n_samples, n_clusters)\n",
        "        \"\"\"\n",
        "        q = 1.0 / (1.0 + (K.sum(K.square(K.expand_dims(inputs, axis=1) - self.clusters), axis=2) / self.alpha))\n",
        "        q **= (self.alpha + 1.0) / 2.0\n",
        "        q = K.transpose(K.transpose(q) / K.sum(q, axis=1)) # Make sure each sample's 10 values add up to 1.\n",
        "        return q\n",
        "\n",
        "    def compute_output_shape(self, input_shape):\n",
        "        assert input_shape and len(input_shape) == 2\n",
        "        return input_shape[0], self.n_clusters\n",
        "\n",
        "    def get_config(self):\n",
        "        config = {'n_clusters': self.n_clusters}\n",
        "        base_config = super(ClusteringLayer, self).get_config()\n",
        "        return dict(list(base_config.items()) + list(config.items()))\n",
        "'''"
      ]
    },
    {
      "cell_type": "code",
      "source": [
        "kmeans = KMeans(n_clusters=n_clusters, n_init=20).fit(encoder.predict(x_train))\n",
        "y_pred = kmeans.predict(encoder.predict(x_test))\n",
        "print(\"rand_score = \",sklearn.metrics.rand_score(y_test,y_pred),\"  clusters \",n_clusters)"
      ],
      "metadata": {
        "colab": {
          "base_uri": "https://localhost:8080/"
        },
        "id": "UL_yC7dKsEK5",
        "outputId": "a7f9f6f5-0092-40f9-c7bf-b76bed839f3a"
      },
      "execution_count": 22,
      "outputs": [
        {
          "output_type": "stream",
          "name": "stdout",
          "text": [
            "rand_score =  0.8324033851692585   clusters  4\n"
          ]
        }
      ]
    },
    {
      "cell_type": "markdown",
      "source": [
        "# Find confusion matrix"
      ],
      "metadata": {
        "id": "X0eKqKmJ7E7n"
      }
    },
    {
      "cell_type": "code",
      "source": [
        "# Plot the confusion matrix\n",
        "\n",
        "import matplotlib.pyplot as plt\n",
        "import seaborn as sns\n",
        "\n",
        "\n",
        "confusion_matrix = sklearn.metrics.confusion_matrix(y_test, y_pred)\n",
        "\n",
        "plt.figure(figsize=(16, 14))\n",
        "sns.heatmap(confusion_matrix, annot=True, fmt=\"d\", annot_kws={\"size\": 12});\n",
        "plt.title(\"Confusion matrix\", fontsize=30)\n",
        "plt.ylabel('True label', fontsize=25)\n",
        "plt.xlabel('Clustering label', fontsize=25)\n",
        "plt.show()"
      ],
      "metadata": {
        "colab": {
          "base_uri": "https://localhost:8080/",
          "height": 866
        },
        "id": "u5PfoRoeXxts",
        "outputId": "894d7ba8-4dd4-41e8-9a4e-0640c90750e1"
      },
      "execution_count": 23,
      "outputs": [
        {
          "output_type": "display_data",
          "data": {
            "text/plain": [
              "<Figure size 1152x1008 with 2 Axes>"
            ],
            "image/png": "[encoded data removed]"
          },
          "metadata": {
            "needs_background": "light"
          }
        }
      ]
    },
    {
      "cell_type": "code",
      "source": [
        "# Preparation - find corresponding true and cluster labels\n",
        "\n",
        "y_matched = np.empty_like(y_pred)\n",
        "\n",
        "# For each cluster label...\n",
        "for k in np.unique(y_pred):\n",
        "\n",
        "    # ...find and assign the best-matching truth label\n",
        "    match_nums = [np.sum((y_pred==k)*(y_test==t)) for t in np.unique(y_test)]\n",
        "    y_matched[y_pred==k] = np.unique(y_test)[np.argmax(match_nums)]"
      ],
      "metadata": {
        "id": "Gd-3W7zb5bAw"
      },
      "execution_count": 24,
      "outputs": []
    },
    {
      "cell_type": "code",
      "source": [
        "# Plot the confusion matrix\n",
        "\n",
        "import matplotlib.pyplot as plt\n",
        "import seaborn as sns\n",
        "\n",
        "\n",
        "confusion_matrix = sklearn.metrics.confusion_matrix(y_test, y_matched)\n",
        "\n",
        "plt.figure(figsize=(16, 14))\n",
        "sns.heatmap(confusion_matrix, annot=True, fmt=\"d\", annot_kws={\"size\": 12});\n",
        "plt.title(\"Confusion matrix\", fontsize=30)\n",
        "plt.ylabel('True label', fontsize=25)\n",
        "plt.xlabel('Clustering label', fontsize=25)\n",
        "plt.show()"
      ],
      "metadata": {
        "colab": {
          "base_uri": "https://localhost:8080/",
          "height": 866
        },
        "id": "aBTfblBctb2c",
        "outputId": "74bd8706-0ded-4507-9ce5-5a78b93d597d"
      },
      "execution_count": 25,
      "outputs": [
        {
          "output_type": "display_data",
          "data": {
            "text/plain": [
              "<Figure size 1152x1008 with 2 Axes>"
            ],
            "image/png": "[encoded data removed]"
          },
          "metadata": {
            "needs_background": "light"
          }
        }
      ]
    },
    {
      "cell_type": "code",
      "source": [
        "import matplotlib.pyplot as plt \n",
        "#import itertools\n",
        "\n",
        "def plot_label_clusters(vae, data, labels):\n",
        "    # display a 2D plot of the digit classes in the latent space\n",
        "    z_mean = vae.predict(data.reshape(len(data),784))\n",
        "    print(z_mean.shape)\n",
        "\n",
        "    #color_cycle= itertools.cycle([\"orange\",\"pink\",\"blue\",\"brown\",\"red\",\"grey\",\"yellow\",\"green\",\"magenta\",\"yellow\"])\n",
        "    plt.figure(figsize=(12, 10))\n",
        "    plt.scatter(z_mean[:, 0], z_mean[:, 1], c=labels, cmap='jet')\n",
        "    plt.colorbar()\n",
        "    plt.xlabel(\"z[0]\")\n",
        "    plt.ylabel(\"z[1]\")\n",
        "    plt.show()\n",
        "\n",
        "\n",
        "\n",
        "\n",
        "plot_label_clusters(encoder, x_test, y_test)\n",
        "print(y_test)"
      ],
      "metadata": {
        "colab": {
          "base_uri": "https://localhost:8080/",
          "height": 645
        },
        "id": "JUw6DieDu9KI",
        "outputId": "1e449b61-9eea-4067-d0a0-bc1ddf6c2ac0"
      },
      "execution_count": 26,
      "outputs": [
        {
          "output_type": "stream",
          "name": "stdout",
          "text": [
            "(20000, 2)\n"
          ]
        },
        {
          "output_type": "display_data",
          "data": {
            "text/plain": [
              "<Figure size 864x720 with 2 Axes>"
            ],
            "image/png": "[encoded data removed]"
          },
          "metadata": {
            "needs_background": "light"
          }
        },
        {
          "output_type": "stream",
          "name": "stdout",
          "text": [
            "[1 1 1 ... 2 3 2]\n"
          ]
        }
      ]
    },
    {
      "cell_type": "code",
      "source": [
        "decoded_imgs = autoencoder.predict(x_train)\n",
        "encoded_imgs = encoder.predict(x_train)\n",
        "\n",
        "n = 40\n",
        "plt.figure(figsize=(40, 8))\n",
        "for i in range(1, n + 1):\n",
        "    # Display original\n",
        "    k=np.random.randint(len(x_train))\n",
        "    ax = plt.subplot(3, n, i)\n",
        "    plt.imshow(x_train[k].reshape(28, 28))\n",
        "    plt.gray()\n",
        "    ax.get_xaxis().set_visible(False)\n",
        "    ax.get_yaxis().set_visible(False)\n",
        "    \n",
        "    #Display bottle-neck\n",
        "    ax = plt.subplot(3, n, i + n)\n",
        "    plt.imshow(encoded_imgs[k].reshape(1,2))\n",
        "    plt.gray()\n",
        "    ax.get_xaxis().set_visible(False)\n",
        "    ax.get_yaxis().set_visible(False)\n",
        "    \n",
        "    # Display reconstruction\n",
        "    ax = plt.subplot(3, n, i + n+n)\n",
        "    plt.imshow(abs(decoded_imgs[k]).reshape(28, 28))\n",
        "    #print(decoded_imgs[k])\n",
        "    plt.gray()\n",
        "    ax.get_xaxis().set_visible(False)\n",
        "    ax.get_yaxis().set_visible(False)\n",
        "\n",
        "    \n",
        "    # label the image with the target value\n",
        "    ax = plt.subplot(3, n, i+n)\n",
        "    ax.text(0, -1, str(y_train[k]))\n",
        "\n",
        "plt.show()\n"
      ],
      "metadata": {
        "colab": {
          "base_uri": "https://localhost:8080/",
          "height": 288
        },
        "id": "z3pmkemoQG5R",
        "outputId": "2d83d4db-5cad-42f1-8c70-285be89ac19d"
      },
      "execution_count": 27,
      "outputs": [
        {
          "output_type": "stream",
          "name": "stderr",
          "text": [
            "/usr/local/lib/python3.7/dist-packages/ipykernel_launcher.py:32: MatplotlibDeprecationWarning: Adding an axes using the same arguments as a previous axes currently reuses the earlier instance.  In a future version, a new instance will always be created and returned.  Meanwhile, this warning can be suppressed, and the future behavior ensured, by passing a unique label to each axes instance.\n"
          ]
        },
        {
          "output_type": "display_data",
          "data": {
            "text/plain": [
              "<Figure size 2880x576 with 120 Axes>"
            ],
            "image/png": "[encoded data removed]"
          },
          "metadata": {
            "needs_background": "light"
          }
        }
      ]
    },
    {
      "cell_type": "code",
      "source": [
        "import sys\n",
        "sys.exit()"
      ],
      "metadata": {
        "id": "aj7zKinkuuMj",
        "colab": {
          "base_uri": "https://localhost:8080/",
          "height": 151
        },
        "outputId": "69531159-eb8f-4562-cba7-0d556171dfcb"
      },
      "execution_count": 28,
      "outputs": [
        {
          "output_type": "error",
          "ename": "SystemExit",
          "evalue": "ignored",
          "traceback": [
            "An exception has occurred, use %tb to see the full traceback.\n",
            "\u001b[0;31mSystemExit\u001b[0m\n"
          ]
        },
        {
          "output_type": "stream",
          "name": "stderr",
          "text": [
            "/usr/local/lib/python3.7/dist-packages/IPython/core/interactiveshell.py:2890: UserWarning: To exit: use 'exit', 'quit', or Ctrl-D.\n",
            "  warn(\"To exit: use 'exit', 'quit', or Ctrl-D.\", stacklevel=1)\n"
          ]
        }
      ]
    },
    {
      "cell_type": "code",
      "execution_count": null,
      "metadata": {
        "id": "XZO5humOC-UI"
      },
      "outputs": [],
      "source": [
        "clustering_layer = ClusteringLayer(n_clusters, name='clustering')(encoder.output)\n",
        "model = Model(inputs=encoder.input, outputs=clustering_layer)"
      ]
    },
    {
      "cell_type": "code",
      "execution_count": null,
      "metadata": {
        "id": "62NY50t5C-UI"
      },
      "outputs": [],
      "source": [
        "from keras.utils import plot_model\n",
        "plot_model(model, to_file='model.png', show_shapes=True)\n",
        "from IPython.display import Image\n",
        "Image(filename='model.png') \n"
      ]
    },
    {
      "cell_type": "code",
      "execution_count": null,
      "metadata": {
        "id": "j1YS6PJIC-UI"
      },
      "outputs": [],
      "source": [
        "model.compile(optimizer=SGD(0.01, 0.9), loss='kld')"
      ]
    },
    {
      "cell_type": "markdown",
      "metadata": {
        "id": "wHK3r9UUC-UI"
      },
      "source": [
        "### Step 1: initialize cluster centers using k-means"
      ]
    },
    {
      "cell_type": "code",
      "execution_count": null,
      "metadata": {
        "id": "k0AH4fyuC-UJ"
      },
      "outputs": [],
      "source": [
        "kmeans = KMeans(n_clusters=n_clusters, n_init=20)\n",
        "y_pred = kmeans.fit_predict(encoder.predict(x))"
      ]
    },
    {
      "cell_type": "code",
      "execution_count": null,
      "metadata": {
        "id": "0Ibuetv4C-UJ"
      },
      "outputs": [],
      "source": [
        "y_pred_last = np.copy(y_pred)"
      ]
    },
    {
      "cell_type": "code",
      "execution_count": null,
      "metadata": {
        "id": "l4QNaEzuC-UJ"
      },
      "outputs": [],
      "source": [
        "model.get_layer(name='clustering').set_weights([kmeans.cluster_centers_])"
      ]
    },
    {
      "cell_type": "markdown",
      "metadata": {
        "id": "CC7YM74pC-UJ"
      },
      "source": [
        "### Step 2: deep clustering\n",
        "Compute p_i by first raising q_i to the second power and then normalizing by frequency per cluster:"
      ]
    },
    {
      "cell_type": "code",
      "execution_count": null,
      "metadata": {
        "id": "B7Kwm1XPC-UJ"
      },
      "outputs": [],
      "source": [
        "# computing an auxiliary target distribution\n",
        "def target_distribution(q):\n",
        "    weight = q ** 2 / q.sum(0)\n",
        "    return (weight.T / weight.sum(1)).T"
      ]
    },
    {
      "cell_type": "code",
      "execution_count": null,
      "metadata": {
        "id": "LuEM9N0xC-UJ"
      },
      "outputs": [],
      "source": [
        "loss = 0\n",
        "index = 0\n",
        "maxiter = 8000\n",
        "update_interval = 140\n",
        "index_array = np.arange(x.shape[0])"
      ]
    },
    {
      "cell_type": "code",
      "execution_count": null,
      "metadata": {
        "id": "o3p8CFLjC-UK"
      },
      "outputs": [],
      "source": [
        "tol = 0.001 # tolerance threshold to stop training"
      ]
    },
    {
      "cell_type": "markdown",
      "metadata": {
        "id": "nFQHrA6WC-UK"
      },
      "source": [
        "### Start training"
      ]
    },
    {
      "cell_type": "code",
      "execution_count": null,
      "metadata": {
        "id": "PkFdoIzWC-UK"
      },
      "outputs": [],
      "source": [
        "for ite in range(int(maxiter)):\n",
        "    if ite % update_interval == 0:\n",
        "        q = model.predict(x, verbose=0)\n",
        "        p = target_distribution(q)  # update the auxiliary target distribution p\n",
        "\n",
        "        # evaluate the clustering performance\n",
        "        y_pred = q.argmax(1)\n",
        "        if y is not None:\n",
        "            acc = np.round(metrics.acc(y, y_pred), 5)\n",
        "            nmi = np.round(metrics.nmi(y, y_pred), 5)\n",
        "            ari = np.round(metrics.ari(y, y_pred), 5)\n",
        "            loss = np.round(loss, 5)\n",
        "            print('Iter %d: acc = %.5f, nmi = %.5f, ari = %.5f' % (ite, acc, nmi, ari), ' ; loss=', loss)\n",
        "\n",
        "        # check stop criterion - model convergence\n",
        "        delta_label = np.sum(y_pred != y_pred_last).astype(np.float32) / y_pred.shape[0]\n",
        "        y_pred_last = np.copy(y_pred)\n",
        "        if ite > 0 and delta_label < tol:\n",
        "            print('delta_label ', delta_label, '< tol ', tol)\n",
        "            print('Reached tolerance threshold. Stopping training.')\n",
        "            break\n",
        "    idx = index_array[index * batch_size: min((index+1) * batch_size, x.shape[0])]\n",
        "    loss = model.train_on_batch(x=x[idx], y=p[idx])\n",
        "    index = index + 1 if (index + 1) * batch_size <= x.shape[0] else 0\n",
        "\n",
        "model.save_weights(save_dir + '/DEC_model_final.h5')"
      ]
    },
    {
      "cell_type": "markdown",
      "metadata": {
        "id": "gudBFt5OC-UK"
      },
      "source": [
        "### Load the clustering model trained weights"
      ]
    },
    {
      "cell_type": "code",
      "execution_count": null,
      "metadata": {
        "id": "F29q72HXC-UK"
      },
      "outputs": [],
      "source": [
        "model.load_weights(save_dir + '/DEC_model_final.h5')"
      ]
    },
    {
      "cell_type": "markdown",
      "metadata": {
        "id": "5HUOEimMC-UK"
      },
      "source": [
        "### Final Evaluation"
      ]
    },
    {
      "cell_type": "code",
      "execution_count": null,
      "metadata": {
        "id": "BR7U9AHKC-UK"
      },
      "outputs": [],
      "source": [
        "# Eval.\n",
        "q = model.predict(x, verbose=0)\n",
        "p = target_distribution(q)  # update the auxiliary target distribution p\n",
        "\n",
        "# evaluate the clustering performance\n",
        "y_pred = q.argmax(1)\n",
        "if y is not None:\n",
        "    acc = np.round(metrics.acc(y, y_pred), 5)\n",
        "    nmi = np.round(metrics.nmi(y, y_pred), 5)\n",
        "    ari = np.round(metrics.ari(y, y_pred), 5)\n",
        "    loss = np.round(loss, 5)\n",
        "    print('Acc = %.5f, nmi = %.5f, ari = %.5f' % (acc, nmi, ari), ' ; loss=', loss)"
      ]
    },
    {
      "cell_type": "code",
      "execution_count": null,
      "metadata": {
        "id": "QUuWJVOSC-UL"
      },
      "outputs": [],
      "source": [
        "import seaborn as sns\n",
        "import sklearn.metrics\n",
        "import matplotlib.pyplot as plt\n",
        "sns.set(font_scale=3)\n",
        "confusion_matrix = sklearn.metrics.confusion_matrix(y, y_pred)\n",
        "\n",
        "plt.figure(figsize=(16, 14))\n",
        "sns.heatmap(confusion_matrix, annot=True, fmt=\"d\", annot_kws={\"size\": 20});\n",
        "plt.title(\"Confusion matrix\", fontsize=30)\n",
        "plt.ylabel('True label', fontsize=25)\n",
        "plt.xlabel('Clustering label', fontsize=25)\n",
        "plt.show()"
      ]
    },
    {
      "cell_type": "markdown",
      "metadata": {
        "id": "F0xEsof1C-UL"
      },
      "source": [
        "### Break down Accuracy metric\n",
        "\n",
        "linear assignment- [Munkres' Assignment Algorithm](http://csclab.murraystate.edu/~bob.pilgrim/445/munkres.html)"
      ]
    },
    {
      "cell_type": "code",
      "execution_count": null,
      "metadata": {
        "id": "oATkKdFbC-UL"
      },
      "outputs": [],
      "source": [
        "from sklearn.utils.linear_assignment_ import linear_assignment\n",
        "\n",
        "y_true = y.astype(np.int64)\n",
        "D = max(y_pred.max(), y_true.max()) + 1\n",
        "w = np.zeros((D, D), dtype=np.int64)\n",
        "# Confusion matrix.\n",
        "for i in range(y_pred.size):\n",
        "    w[y_pred[i], y_true[i]] += 1\n",
        "ind = linear_assignment(-w)\n",
        "\n",
        "sum([w[i, j] for i, j in ind]) * 1.0 / y_pred.size"
      ]
    },
    {
      "cell_type": "code",
      "execution_count": null,
      "metadata": {
        "id": "w3mGmBrmC-UL"
      },
      "outputs": [],
      "source": [
        "w"
      ]
    },
    {
      "cell_type": "code",
      "execution_count": null,
      "metadata": {
        "id": "GzvUFyzzC-UL"
      },
      "outputs": [],
      "source": [
        "ind"
      ]
    },
    {
      "cell_type": "code",
      "execution_count": null,
      "metadata": {
        "id": "8DvPoK_lC-UM"
      },
      "outputs": [],
      "source": [
        "w.argmax(1)"
      ]
    },
    {
      "cell_type": "markdown",
      "metadata": {
        "id": "uZnOFY8bC-UM"
      },
      "source": [
        "## Experimental\n",
        "Convolutional auto encoder."
      ]
    },
    {
      "cell_type": "code",
      "execution_count": null,
      "metadata": {
        "id": "Wls390KbC-UM"
      },
      "outputs": [],
      "source": [
        "from keras.models import Model\n",
        "from keras import backend as K\n",
        "from keras import layers\n",
        "from keras.layers import Input, Dense, Conv2D, MaxPooling2D, UpSampling2D, Flatten, Reshape, Conv2DTranspose\n",
        "from keras.models import Model\n",
        "import numpy as np"
      ]
    },
    {
      "cell_type": "markdown",
      "metadata": {
        "id": "qn7d85uTC-UM"
      },
      "source": [
        "### Convolutional auto encoder option 1\n",
        "Use [`Conv2DTranspose`](https://keras.io/layers/convolutional/#conv2dtranspose) to reconstruct the image."
      ]
    },
    {
      "cell_type": "code",
      "execution_count": null,
      "metadata": {
        "id": "VmiAkmD2C-UM"
      },
      "outputs": [],
      "source": [
        "def autoencoderConv2D_1(input_shape=(28, 28, 1), filters=[32, 64, 128, 10]):\n",
        "    input_img = Input(shape=input_shape)\n",
        "    if input_shape[0] % 8 == 0:\n",
        "        pad3 = 'same'\n",
        "    else:\n",
        "        pad3 = 'valid'\n",
        "    x = Conv2D(filters[0], 5, strides=2, padding='same', activation='relu', name='conv1', input_shape=input_shape)(input_img)\n",
        "\n",
        "    x = Conv2D(filters[1], 5, strides=2, padding='same', activation='relu', name='conv2')(x)\n",
        "\n",
        "    x = Conv2D(filters[2], 3, strides=2, padding=pad3, activation='relu', name='conv3')(x)\n",
        "\n",
        "    x = Flatten()(x)\n",
        "    encoded = Dense(units=filters[3], name='embedding')(x)\n",
        "    x = Dense(units=filters[2]*int(input_shape[0]/8)*int(input_shape[0]/8), activation='relu')(encoded)\n",
        "\n",
        "    x = Reshape((int(input_shape[0]/8), int(input_shape[0]/8), filters[2]))(x)\n",
        "    x = Conv2DTranspose(filters[1], 3, strides=2, padding=pad3, activation='relu', name='deconv3')(x)\n",
        "\n",
        "    x = Conv2DTranspose(filters[0], 5, strides=2, padding='same', activation='relu', name='deconv2')(x)\n",
        "\n",
        "    decoded = Conv2DTranspose(input_shape[2], 5, strides=2, padding='same', name='deconv1')(x)\n",
        "    return Model(inputs=input_img, outputs=decoded, name='AE'), Model(inputs=input_img, outputs=encoded, name='encoder')"
      ]
    },
    {
      "cell_type": "markdown",
      "metadata": {
        "id": "P90M1YFHC-UM"
      },
      "source": [
        "### Convolutional auto encoder option 2\n",
        "Use [`UpSampling2D`](https://keras.io/layers/convolutional/#upsampling2d) to reconstruct the image."
      ]
    },
    {
      "cell_type": "code",
      "execution_count": null,
      "metadata": {
        "id": "QlnEL0J7C-UN"
      },
      "outputs": [],
      "source": [
        "def autoencoderConv2D_2(img_shape=(28, 28, 1)):\n",
        "    \"\"\"\n",
        "    Conv2D auto-encoder model.\n",
        "    Arguments:\n",
        "        img_shape: e.g. (28, 28, 1) for MNIST\n",
        "    return:\n",
        "        (autoencoder, encoder), Model of autoencoder and model of encoder\n",
        "    \"\"\"\n",
        "    input_img = Input(shape=img_shape)\n",
        "    # Encoder\n",
        "    x = Conv2D(16, (3, 3), activation='relu', padding='same', strides=(2, 2))(input_img)\n",
        "    x = Conv2D(8, (3, 3), activation='relu', padding='same', strides=(2, 2))(x)\n",
        "    x = Conv2D(8, (3, 3), activation='relu', padding='same', strides=(2, 2))(x)\n",
        "    shape_before_flattening = K.int_shape(x)\n",
        "    # at this point the representation is (4, 4, 8) i.e. 128-dimensional\n",
        "    x = Flatten()(x)\n",
        "    encoded = Dense(10, activation='relu', name='encoded')(x)\n",
        "\n",
        "    # Decoder\n",
        "    x = Dense(np.prod(shape_before_flattening[1:]),\n",
        "                activation='relu')(encoded)\n",
        "    # Reshape into an image of the same shape as before our last `Flatten` layer\n",
        "    x = Reshape(shape_before_flattening[1:])(x)\n",
        "\n",
        "    x = Conv2D(8, (3, 3), activation='relu', padding='same')(x)\n",
        "    x = UpSampling2D((2, 2))(x)\n",
        "    x = Conv2D(8, (3, 3), activation='relu', padding='same')(x)\n",
        "    x = UpSampling2D((2, 2))(x)\n",
        "    x = Conv2D(16, (3, 3), activation='relu')(x)\n",
        "    x = UpSampling2D((2, 2))(x)\n",
        "    decoded = Conv2D(1, (3, 3), activation='sigmoid', padding='same')(x)\n",
        "\n",
        "    return Model(inputs=input_img, outputs=decoded, name='AE'), Model(inputs=input_img, outputs=encoded, name='encoder')\n"
      ]
    },
    {
      "cell_type": "markdown",
      "metadata": {
        "id": "_5RTQh-OC-UN"
      },
      "source": [
        "### Pick a convolutional autoencoder\n",
        "`autoencoderConv2D_1` or `autoencoderConv2D_2`"
      ]
    },
    {
      "cell_type": "code",
      "execution_count": null,
      "metadata": {
        "id": "AVEIaZiiC-UN"
      },
      "outputs": [],
      "source": [
        "autoencoder, encoder = autoencoderConv2D_1()"
      ]
    },
    {
      "cell_type": "code",
      "execution_count": null,
      "metadata": {
        "id": "ayoem0NBC-UN"
      },
      "outputs": [],
      "source": [
        "autoencoder.summary()"
      ]
    },
    {
      "cell_type": "markdown",
      "metadata": {
        "id": "QjaemBUtC-UN"
      },
      "source": [
        "### Load MNIST data for convolutional input"
      ]
    },
    {
      "cell_type": "code",
      "execution_count": null,
      "metadata": {
        "id": "CQbPDj_vC-UN"
      },
      "outputs": [],
      "source": [
        "from keras.datasets import mnist\n",
        "\n",
        "(x_train, y_train), (x_test, y_test) = mnist.load_data()\n",
        "\n",
        "x = np.concatenate((x_train, x_test))\n",
        "y = np.concatenate((y_train, y_test))\n",
        "x = x.reshape(x.shape + (1,))\n",
        "x = np.divide(x, 255.)"
      ]
    },
    {
      "cell_type": "markdown",
      "metadata": {
        "id": "L1Wg7PHzC-UO"
      },
      "source": [
        "### Pretrain covolutional autoencoder"
      ]
    },
    {
      "cell_type": "code",
      "execution_count": null,
      "metadata": {
        "id": "-ikYb6rlC-UO"
      },
      "outputs": [],
      "source": [
        "pretrain_epochs = 100\n",
        "batch_size = 256"
      ]
    },
    {
      "cell_type": "code",
      "execution_count": null,
      "metadata": {
        "id": "pB0-hlWkC-UO"
      },
      "outputs": [],
      "source": [
        "autoencoder.compile(optimizer='adadelta', loss='mse')"
      ]
    },
    {
      "cell_type": "code",
      "execution_count": null,
      "metadata": {
        "scrolled": true,
        "id": "2VPicqTaC-UO"
      },
      "outputs": [],
      "source": [
        "autoencoder.fit(x, x, batch_size=batch_size, epochs=pretrain_epochs)\n",
        "autoencoder.save_weights(save_dir+'/conv_ae_weights.h5')"
      ]
    },
    {
      "cell_type": "code",
      "execution_count": null,
      "metadata": {
        "id": "i3oMaVjlC-UO"
      },
      "outputs": [],
      "source": [
        "autoencoder.load_weights(save_dir+'/conv_ae_weights.h5')"
      ]
    },
    {
      "cell_type": "markdown",
      "metadata": {
        "id": "K9VeW5QGC-UP"
      },
      "source": [
        "### Build clustering model with convolutional autoencoder"
      ]
    },
    {
      "cell_type": "code",
      "execution_count": null,
      "metadata": {
        "id": "qTaw_exsC-UP"
      },
      "outputs": [],
      "source": [
        "clustering_layer = ClusteringLayer(n_clusters, name='clustering')(encoder.output)\n",
        "model = Model(inputs=encoder.input, outputs=clustering_layer)\n",
        "model.compile(optimizer='adam', loss='kld')"
      ]
    },
    {
      "cell_type": "markdown",
      "metadata": {
        "id": "r4gF95N2C-UP"
      },
      "source": [
        "### Step 1: initialize cluster centers using k-means"
      ]
    },
    {
      "cell_type": "code",
      "execution_count": null,
      "metadata": {
        "id": "cRrgbTs8C-UP"
      },
      "outputs": [],
      "source": [
        "kmeans = KMeans(n_clusters=n_clusters, n_init=20)\n",
        "y_pred = kmeans.fit_predict(encoder.predict(x))"
      ]
    },
    {
      "cell_type": "code",
      "execution_count": null,
      "metadata": {
        "id": "Cjmne4LsC-UQ"
      },
      "outputs": [],
      "source": [
        "y_pred_last = np.copy(y_pred)"
      ]
    },
    {
      "cell_type": "code",
      "execution_count": null,
      "metadata": {
        "id": "psDl1W2XC-UQ"
      },
      "outputs": [],
      "source": [
        "model.get_layer(name='clustering').set_weights([kmeans.cluster_centers_])"
      ]
    },
    {
      "cell_type": "markdown",
      "metadata": {
        "id": "TJzD1RGJC-UQ"
      },
      "source": [
        "### Step 2: deep clustering"
      ]
    },
    {
      "cell_type": "code",
      "execution_count": null,
      "metadata": {
        "id": "Ogu9mqr_C-UQ"
      },
      "outputs": [],
      "source": [
        "loss = 0\n",
        "index = 0\n",
        "maxiter = 8000\n",
        "update_interval = 140\n",
        "index_array = np.arange(x.shape[0])"
      ]
    },
    {
      "cell_type": "code",
      "execution_count": null,
      "metadata": {
        "id": "lzp5HHi8C-UQ"
      },
      "outputs": [],
      "source": [
        "tol = 0.001 # tolerance threshold to stop training"
      ]
    },
    {
      "cell_type": "markdown",
      "metadata": {
        "id": "LL22DJBoC-UR"
      },
      "source": [
        "### Start training"
      ]
    },
    {
      "cell_type": "code",
      "execution_count": null,
      "metadata": {
        "id": "ArvOrH07C-UR"
      },
      "outputs": [],
      "source": [
        "for ite in range(int(maxiter)):\n",
        "    if ite % update_interval == 0:\n",
        "        q = model.predict(x, verbose=0)\n",
        "        p = target_distribution(q)  # update the auxiliary target distribution p\n",
        "\n",
        "        # evaluate the clustering performance\n",
        "        y_pred = q.argmax(1)\n",
        "        if y is not None:\n",
        "            acc = np.round(metrics.acc(y, y_pred), 5)\n",
        "            nmi = np.round(metrics.nmi(y, y_pred), 5)\n",
        "            ari = np.round(metrics.ari(y, y_pred), 5)\n",
        "            loss = np.round(loss, 5)\n",
        "            print('Iter %d: acc = %.5f, nmi = %.5f, ari = %.5f' % (ite, acc, nmi, ari), ' ; loss=', loss)\n",
        "\n",
        "        # check stop criterion\n",
        "        delta_label = np.sum(y_pred != y_pred_last).astype(np.float32) / y_pred.shape[0]\n",
        "        y_pred_last = np.copy(y_pred)\n",
        "        if ite > 0 and delta_label < tol:\n",
        "            print('delta_label ', delta_label, '< tol ', tol)\n",
        "            print('Reached tolerance threshold. Stopping training.')\n",
        "            break\n",
        "    idx = index_array[index * batch_size: min((index+1) * batch_size, x.shape[0])]\n",
        "    loss = model.train_on_batch(x=x[idx], y=p[idx])\n",
        "    index = index + 1 if (index + 1) * batch_size <= x.shape[0] else 0\n",
        "\n",
        "model.save_weights(save_dir + '/conv_DEC_model_final.h5')"
      ]
    },
    {
      "cell_type": "markdown",
      "metadata": {
        "id": "27J8pqaRC-UR"
      },
      "source": [
        "### Load the clustering model trained weights"
      ]
    },
    {
      "cell_type": "code",
      "execution_count": null,
      "metadata": {
        "id": "C4gdBws4C-UR"
      },
      "outputs": [],
      "source": [
        "model.load_weights(save_dir + '/conv_DEC_model_final.h5')"
      ]
    },
    {
      "cell_type": "markdown",
      "metadata": {
        "id": "5cx8xpyuC-UR"
      },
      "source": [
        "### Final Evaluation"
      ]
    },
    {
      "cell_type": "code",
      "execution_count": null,
      "metadata": {
        "id": "d0OBZ5EaC-US"
      },
      "outputs": [],
      "source": [
        "# Eval.\n",
        "q = model.predict(x, verbose=0)\n",
        "p = target_distribution(q)  # update the auxiliary target distribution p\n",
        "\n",
        "# evaluate the clustering performance\n",
        "y_pred = q.argmax(1)\n",
        "if y is not None:\n",
        "    acc = np.round(metrics.acc(y, y_pred), 5)\n",
        "    nmi = np.round(metrics.nmi(y, y_pred), 5)\n",
        "    ari = np.round(metrics.ari(y, y_pred), 5)\n",
        "    loss = np.round(loss, 5)\n",
        "    print('Acc = %.5f, nmi = %.5f, ari = %.5f' % (acc, nmi, ari), ' ; loss=', loss)"
      ]
    },
    {
      "cell_type": "code",
      "execution_count": null,
      "metadata": {
        "id": "f1YRqLWIC-US"
      },
      "outputs": [],
      "source": [
        "import seaborn as sns\n",
        "import sklearn.metrics\n",
        "import matplotlib.pyplot as plt\n",
        "sns.set(font_scale=3)\n",
        "confusion_matrix = sklearn.metrics.confusion_matrix(y, y_pred)\n",
        "\n",
        "plt.figure(figsize=(16, 14))\n",
        "sns.heatmap(confusion_matrix, annot=True, fmt=\"d\", annot_kws={\"size\": 20});\n",
        "plt.title(\"Confusion matrix\", fontsize=30)\n",
        "plt.ylabel('True label', fontsize=25)\n",
        "plt.xlabel('Clustering label', fontsize=25)\n",
        "plt.show()"
      ]
    },
    {
      "cell_type": "markdown",
      "metadata": {
        "id": "3uM_cIqyC-US"
      },
      "source": [
        "## Model to train clustering and autoencoder at same time(Convolutional)\n",
        "Multiple outputs model."
      ]
    },
    {
      "cell_type": "code",
      "execution_count": null,
      "metadata": {
        "id": "82m6fsBqC-US"
      },
      "outputs": [],
      "source": [
        "autoencoder, encoder = autoencoderConv2D_1()\n",
        "autoencoder.load_weights(save_dir+'/conv_ae_weights.h5')\n",
        "clustering_layer = ClusteringLayer(n_clusters, name='clustering')(encoder.output)\n",
        "model = Model(inputs=encoder.input,\n",
        "                           outputs=[clustering_layer, autoencoder.output])"
      ]
    },
    {
      "cell_type": "code",
      "execution_count": null,
      "metadata": {
        "id": "rk8Lt7RAC-UT"
      },
      "outputs": [],
      "source": [
        "from keras.utils import plot_model\n",
        "plot_model(model, to_file='model.png', show_shapes=True)\n",
        "from IPython.display import Image\n",
        "Image(filename='model.png') \n"
      ]
    },
    {
      "cell_type": "markdown",
      "metadata": {
        "id": "JrX53RtdC-UT"
      },
      "source": [
        "### Initialize cluster centers using k-means"
      ]
    },
    {
      "cell_type": "code",
      "execution_count": null,
      "metadata": {
        "id": "kBcKypksC-UU"
      },
      "outputs": [],
      "source": [
        "kmeans = KMeans(n_clusters=n_clusters, n_init=20)\n",
        "y_pred = kmeans.fit_predict(encoder.predict(x))\n",
        "model.get_layer(name='clustering').set_weights([kmeans.cluster_centers_])\n",
        "y_pred_last = np.copy(y_pred)"
      ]
    },
    {
      "cell_type": "code",
      "execution_count": null,
      "metadata": {
        "id": "9niZLXgcC-UU"
      },
      "outputs": [],
      "source": [
        "model.compile(loss=['kld', 'mse'], loss_weights=[0.1, 1], optimizer='adam')"
      ]
    },
    {
      "cell_type": "code",
      "execution_count": null,
      "metadata": {
        "id": "kWHQNE42C-UU"
      },
      "outputs": [],
      "source": [
        "for ite in range(int(maxiter)):\n",
        "    if ite % update_interval == 0:\n",
        "        q, _  = model.predict(x, verbose=0)\n",
        "        p = target_distribution(q)  # update the auxiliary target distribution p\n",
        "\n",
        "        # evaluate the clustering performance\n",
        "        y_pred = q.argmax(1)\n",
        "        if y is not None:\n",
        "            acc = np.round(metrics.acc(y, y_pred), 5)\n",
        "            nmi = np.round(metrics.nmi(y, y_pred), 5)\n",
        "            ari = np.round(metrics.ari(y, y_pred), 5)\n",
        "            loss = np.round(loss, 5)\n",
        "            print('Iter %d: acc = %.5f, nmi = %.5f, ari = %.5f' % (ite, acc, nmi, ari), ' ; loss=', loss)\n",
        "\n",
        "        # check stop criterion\n",
        "        delta_label = np.sum(y_pred != y_pred_last).astype(np.float32) / y_pred.shape[0]\n",
        "        y_pred_last = np.copy(y_pred)\n",
        "        if ite > 0 and delta_label < tol:\n",
        "            print('delta_label ', delta_label, '< tol ', tol)\n",
        "            print('Reached tolerance threshold. Stopping training.')\n",
        "            break\n",
        "    idx = index_array[index * batch_size: min((index+1) * batch_size, x.shape[0])]\n",
        "    loss = model.train_on_batch(x=x[idx], y=[p[idx], x[idx]])\n",
        "    index = index + 1 if (index + 1) * batch_size <= x.shape[0] else 0\n",
        "\n",
        "model.save_weights(save_dir + '/conv_b_DEC_model_final.h5')"
      ]
    },
    {
      "cell_type": "markdown",
      "metadata": {
        "id": "Wp4hLnHDC-UU"
      },
      "source": [
        "### Load the clustering model trained weights"
      ]
    },
    {
      "cell_type": "code",
      "execution_count": null,
      "metadata": {
        "id": "z0tuY0TgC-UV"
      },
      "outputs": [],
      "source": [
        "model.load_weights(save_dir + '/conv_b_DEC_model_final.h5')"
      ]
    },
    {
      "cell_type": "markdown",
      "metadata": {
        "id": "l-Ia1lT1C-UV"
      },
      "source": [
        "### Final Evaluation"
      ]
    },
    {
      "cell_type": "code",
      "execution_count": null,
      "metadata": {
        "id": "MGkf0ruIC-UV"
      },
      "outputs": [],
      "source": [
        "# Eval.\n",
        "q, _ = model.predict(x, verbose=0)\n",
        "p = target_distribution(q)  # update the auxiliary target distribution p\n",
        "\n",
        "# evaluate the clustering performance\n",
        "y_pred = q.argmax(1)\n",
        "if y is not None:\n",
        "    acc = np.round(metrics.acc(y, y_pred), 5)\n",
        "    nmi = np.round(metrics.nmi(y, y_pred), 5)\n",
        "    ari = np.round(metrics.ari(y, y_pred), 5)\n",
        "    loss = np.round(loss, 5)\n",
        "    print('Acc = %.5f, nmi = %.5f, ari = %.5f' % (acc, nmi, ari), ' ; loss=', loss)"
      ]
    },
    {
      "cell_type": "code",
      "execution_count": null,
      "metadata": {
        "id": "_y20dA5ZC-UV"
      },
      "outputs": [],
      "source": [
        "import seaborn as sns\n",
        "import sklearn.metrics\n",
        "import matplotlib.pyplot as plt\n",
        "sns.set(font_scale=3)\n",
        "confusion_matrix = sklearn.metrics.confusion_matrix(y, y_pred)\n",
        "\n",
        "plt.figure(figsize=(16, 14))\n",
        "sns.heatmap(confusion_matrix, annot=True, fmt=\"d\", annot_kws={\"size\": 20});\n",
        "plt.title(\"Confusion matrix\", fontsize=30)\n",
        "plt.ylabel('True label', fontsize=25)\n",
        "plt.xlabel('Clustering label', fontsize=25)\n",
        "plt.show()"
      ]
    },
    {
      "cell_type": "markdown",
      "metadata": {
        "id": "JVSZ9XQjC-UW"
      },
      "source": [
        "## Model to train clustering and autoencoder at same time(Fully connected)\n",
        "Multiple outputs model."
      ]
    },
    {
      "cell_type": "code",
      "execution_count": null,
      "metadata": {
        "id": "0MwRm1meC-UW"
      },
      "outputs": [],
      "source": [
        "(x_train, y_train), (x_test, y_test) = mnist.load_data()\n",
        "\n",
        "x = np.concatenate((x_train, x_test))\n",
        "y = np.concatenate((y_train, y_test))\n",
        "x = x.reshape((x.shape[0], -1))\n",
        "x = np.divide(x, 255.)\n",
        "n_clusters = len(np.unique(y))\n",
        "x.shape"
      ]
    },
    {
      "cell_type": "code",
      "execution_count": null,
      "metadata": {
        "id": "dx7LSRcUC-UW"
      },
      "outputs": [],
      "source": [
        "dims = [x.shape[-1], 500, 500, 2000, 10]\n",
        "init = VarianceScaling(scale=1. / 3., mode='fan_in',\n",
        "                           distribution='uniform')\n",
        "pretrain_optimizer = SGD(lr=1, momentum=0.9)\n",
        "pretrain_epochs = 300\n",
        "batch_size = 256\n",
        "save_dir = './results'"
      ]
    },
    {
      "cell_type": "code",
      "execution_count": null,
      "metadata": {
        "id": "xjgOmfQoC-UW"
      },
      "outputs": [],
      "source": [
        "\n",
        "def autoencoder(dims, act='relu', init='glorot_uniform'):\n",
        "    \"\"\"\n",
        "    Fully connected auto-encoder model, symmetric.\n",
        "    Arguments:\n",
        "        dims: list of number of units in each layer of encoder. dims[0] is input dim, dims[-1] is units in hidden layer.\n",
        "            The decoder is symmetric with encoder. So number of layers of the auto-encoder is 2*len(dims)-1\n",
        "        act: activation, not applied to Input, Hidden and Output layers\n",
        "    return:\n",
        "        (ae_model, encoder_model), Model of autoencoder and model of encoder\n",
        "    \"\"\"\n",
        "    n_stacks = len(dims) - 1\n",
        "    # input\n",
        "    input_img = Input(shape=(dims[0],), name='input')\n",
        "    x = input_img\n",
        "    # internal layers in encoder\n",
        "    for i in range(n_stacks-1):\n",
        "        x = Dense(dims[i + 1], activation=act, kernel_initializer=init, name='encoder_%d' % i)(x)\n",
        "\n",
        "    # hidden layer\n",
        "    encoded = Dense(dims[-1], kernel_initializer=init, name='encoder_%d' % (n_stacks - 1))(x)  # hidden layer, features are extracted from here\n",
        "\n",
        "    x = encoded\n",
        "    # internal layers in decoder\n",
        "    for i in range(n_stacks-1, 0, -1):\n",
        "        x = Dense(dims[i], activation=act, kernel_initializer=init, name='decoder_%d' % i)(x)\n",
        "\n",
        "    # output\n",
        "    x = Dense(dims[0], kernel_initializer=init, name='decoder_0')(x)\n",
        "    decoded = x\n",
        "    return Model(inputs=input_img, outputs=decoded, name='AE'), Model(inputs=input_img, outputs=encoded, name='encoder')\n"
      ]
    },
    {
      "cell_type": "code",
      "execution_count": null,
      "metadata": {
        "id": "uS0_comNC-UW"
      },
      "outputs": [],
      "source": [
        "autoencoder, encoder = autoencoder(dims, init=init)\n",
        "autoencoder.load_weights(save_dir+'/ae_weights.h5')\n",
        "clustering_layer = ClusteringLayer(n_clusters, name='clustering')(encoder.output)\n",
        "model = Model(inputs=encoder.input,\n",
        "            outputs=[clustering_layer, autoencoder.output])"
      ]
    },
    {
      "cell_type": "code",
      "execution_count": null,
      "metadata": {
        "id": "ItPX_kJMC-UX"
      },
      "outputs": [],
      "source": [
        "from keras.utils import plot_model\n",
        "plot_model(model, to_file='model.png', show_shapes=True)\n",
        "from IPython.display import Image\n",
        "Image(filename='model.png') "
      ]
    },
    {
      "cell_type": "markdown",
      "metadata": {
        "id": "EUcjliZ6C-UX"
      },
      "source": [
        "### Initialize cluster centers using k-means"
      ]
    },
    {
      "cell_type": "code",
      "execution_count": null,
      "metadata": {
        "id": "emZ-vieOC-UX"
      },
      "outputs": [],
      "source": [
        "kmeans = KMeans(n_clusters=n_clusters, n_init=20)\n",
        "y_pred = kmeans.fit_predict(encoder.predict(x))\n",
        "model.get_layer(name='clustering').set_weights([kmeans.cluster_centers_])\n",
        "y_pred_last = np.copy(y_pred)"
      ]
    },
    {
      "cell_type": "code",
      "execution_count": null,
      "metadata": {
        "id": "vD_o2EBqC-UX"
      },
      "outputs": [],
      "source": [
        "model.compile(loss=['kld', 'mse'], loss_weights=[0.1, 1], optimizer=pretrain_optimizer)"
      ]
    },
    {
      "cell_type": "code",
      "execution_count": null,
      "metadata": {
        "id": "KuFKuKtOC-UX"
      },
      "outputs": [],
      "source": [
        "for ite in range(int(maxiter)):\n",
        "    if ite % update_interval == 0:\n",
        "        q, _  = model.predict(x, verbose=0)\n",
        "        p = target_distribution(q)  # update the auxiliary target distribution p\n",
        "\n",
        "        # evaluate the clustering performance\n",
        "        y_pred = q.argmax(1)\n",
        "        if y is not None:\n",
        "            acc = np.round(metrics.acc(y, y_pred), 5)\n",
        "            nmi = np.round(metrics.nmi(y, y_pred), 5)\n",
        "            ari = np.round(metrics.ari(y, y_pred), 5)\n",
        "            loss = np.round(loss, 5)\n",
        "            print('Iter %d: acc = %.5f, nmi = %.5f, ari = %.5f' % (ite, acc, nmi, ari), ' ; loss=', loss)\n",
        "\n",
        "        # check stop criterion\n",
        "        delta_label = np.sum(y_pred != y_pred_last).astype(np.float32) / y_pred.shape[0]\n",
        "        y_pred_last = np.copy(y_pred)\n",
        "        if ite > 0 and delta_label < tol:\n",
        "            print('delta_label ', delta_label, '< tol ', tol)\n",
        "            print('Reached tolerance threshold. Stopping training.')\n",
        "            break\n",
        "    idx = index_array[index * batch_size: min((index+1) * batch_size, x.shape[0])]\n",
        "    loss = model.train_on_batch(x=x[idx], y=[p[idx], x[idx]])\n",
        "    index = index + 1 if (index + 1) * batch_size <= x.shape[0] else 0\n",
        "\n",
        "model.save_weights(save_dir + '/b_DEC_model_final.h5')"
      ]
    },
    {
      "cell_type": "markdown",
      "metadata": {
        "id": "YzO82Q1YC-UY"
      },
      "source": [
        "### Load the clustering model trained weights"
      ]
    },
    {
      "cell_type": "code",
      "execution_count": null,
      "metadata": {
        "id": "Z6oS5VG-C-UY"
      },
      "outputs": [],
      "source": [
        "model.load_weights(save_dir + '/b_DEC_model_final.h5')"
      ]
    },
    {
      "cell_type": "markdown",
      "metadata": {
        "id": "z6I_BytaC-UY"
      },
      "source": [
        "### Final Evaluation"
      ]
    },
    {
      "cell_type": "code",
      "execution_count": null,
      "metadata": {
        "id": "y1fd_6H3C-UY"
      },
      "outputs": [],
      "source": [
        "# Eval.\n",
        "q, _ = model.predict(x, verbose=0)\n",
        "p = target_distribution(q)  # update the auxiliary target distribution p\n",
        "\n",
        "# evaluate the clustering performance\n",
        "y_pred = q.argmax(1)\n",
        "if y is not None:\n",
        "    acc = np.round(metrics.acc(y, y_pred), 5)\n",
        "    nmi = np.round(metrics.nmi(y, y_pred), 5)\n",
        "    ari = np.round(metrics.ari(y, y_pred), 5)\n",
        "    loss = np.round(loss, 5)\n",
        "    print('Acc = %.5f, nmi = %.5f, ari = %.5f' % (acc, nmi, ari), ' ; loss=', loss)"
      ]
    },
    {
      "cell_type": "code",
      "execution_count": null,
      "metadata": {
        "id": "MG5IxmwvC-UZ"
      },
      "outputs": [],
      "source": [
        "import seaborn as sns\n",
        "import sklearn.metrics\n",
        "import matplotlib.pyplot as plt\n",
        "sns.set(font_scale=3)\n",
        "confusion_matrix = sklearn.metrics.confusion_matrix(y, y_pred)\n",
        "\n",
        "plt.figure(figsize=(16, 14))\n",
        "sns.heatmap(confusion_matrix, annot=True, fmt=\"d\", annot_kws={\"size\": 20});\n",
        "plt.title(\"Confusion matrix\", fontsize=30)\n",
        "plt.ylabel('True label', fontsize=25)\n",
        "plt.xlabel('Clustering label', fontsize=25)\n",
        "plt.show()"
      ]
    },
    {
      "cell_type": "code",
      "execution_count": null,
      "metadata": {
        "id": "mXLK5FeqC-UZ"
      },
      "outputs": [],
      "source": [
        ""
      ]
    }
  ],
  "metadata": {
    "kernelspec": {
      "display_name": "Python 3",
      "language": "python",
      "name": "python3"
    },
    "language_info": {
      "codemirror_mode": {
        "name": "ipython",
        "version": 3
      },
      "file_extension": ".py",
      "mimetype": "text/x-python",
      "name": "python",
      "nbconvert_exporter": "python",
      "pygments_lexer": "ipython3",
      "version": "3.5.2"
    },
    "colab": {
      "name": "Autoencoder-Keras-DEC.ipynb",
      "provenance": [],
      "collapsed_sections": [
        "CC7YM74pC-UJ",
        "nFQHrA6WC-UK",
        "gudBFt5OC-UK",
        "F0xEsof1C-UL",
        "qn7d85uTC-UM",
        "P90M1YFHC-UM",
        "_5RTQh-OC-UN",
        "QjaemBUtC-UN",
        "L1Wg7PHzC-UO",
        "K9VeW5QGC-UP",
        "r4gF95N2C-UP",
        "TJzD1RGJC-UQ",
        "LL22DJBoC-UR",
        "27J8pqaRC-UR",
        "5cx8xpyuC-UR",
        "JrX53RtdC-UT",
        "Wp4hLnHDC-UU",
        "l-Ia1lT1C-UV",
        "EUcjliZ6C-UX",
        "YzO82Q1YC-UY",
        "z6I_BytaC-UY"
      ],
      "include_colab_link": true
    },
    "accelerator": "GPU",
    "gpuClass": "standard"
  },
  "nbformat": 4,
  "nbformat_minor": 0
}